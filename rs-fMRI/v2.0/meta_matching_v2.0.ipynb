{
 "cells": [
  {
   "cell_type": "markdown",
   "metadata": {},
   "source": [
    "## Meta matching v2.0\n",
    "This jupyter notebook demonstrates you how to load and use multilayer meta-matching algorthm. In this demonstration, we performed multilayer meta-matching with 100 example subjects.\n",
    "\n",
    "Package needed (and version this jupyter notebook tested):\n",
    "* Numpy (1.19.2)\n",
    "* Scipy (1.5.2)\n",
    "* PyTorch (1.7.1)\n",
    "* Scikit-learn (0.23.2)"
   ]
  },
  {
   "cell_type": "markdown",
   "metadata": {},
   "source": [
    "### Step 0. Setup\n",
    "Please modify the `path_repo` below to your repo position:"
   ]
  },
  {
   "cell_type": "code",
   "execution_count": 1,
   "metadata": {},
   "outputs": [],
   "source": [
    "path_repo = '../' # '/home/the/deepGround/code/2002/Meta_matching_models/'"
   ]
  },
  {
   "cell_type": "code",
   "execution_count": 2,
   "metadata": {
    "scrolled": true
   },
   "outputs": [],
   "source": [
    "# initialization and random seed set\n",
    "\n",
    "import os\n",
    "import sys\n",
    "import random\n",
    "import scipy\n",
    "import torch\n",
    "import pickle\n",
    "import sklearn\n",
    "import numpy as np\n",
    "\n",
    "seed = 42\n",
    "random.seed(seed)\n",
    "np.random.seed(seed)\n",
    "torch.manual_seed(seed)\n",
    "torch.cuda.manual_seed(seed)\n",
    "torch.cuda.manual_seed_all(seed)\n",
    "\n",
    "import warnings\n",
    "warnings.filterwarnings(\"ignore\")"
   ]
  },
  {
   "cell_type": "markdown",
   "metadata": {},
   "source": [
    "### Step 1. Load data\n",
    "Load the example data that we provided, it contains \n",
    "* Example input functional connectivity (FC) `x` with size of (100, 87571)\n",
    "    * 100 is number of subjects\n",
    "    * 87571 is flatten vector of 419 by 419 FC (419*418/2=87571)\n",
    "* Example output phenotypes `y` with size of (100, 3)\n",
    "    * 3 is number of phenotypes."
   ]
  },
  {
   "cell_type": "code",
   "execution_count": 3,
   "metadata": {},
   "outputs": [
    {
     "name": "stdout",
     "output_type": "stream",
     "text": [
      "(100, 87571) (100, 3)\n"
     ]
    }
   ],
   "source": [
    "path_v20 = os.path.join(path_repo, 'v2.0')\n",
    "path_v11 = os.path.join(path_repo, 'v1.1')\n",
    "path_v10 = os.path.join(path_repo, 'v1.0')\n",
    "model_v20_path = os.path.join(path_v20, 'models')\n",
    "sys.path.append(path_v10)\n",
    "# check whether v2.0 model files exist and are up-to-date\n",
    "from CBIG_model_pytorch import check_models_v20\n",
    "check_models_v20(model_v20_path)\n",
    "# load data\n",
    "from CBIG_model_pytorch import demean_norm\n",
    "\n",
    "npz = np.load(os.path.join(path_v10, 'meta_matching_v1.0_data.npz'))\n",
    "x_input = npz['x']\n",
    "y_input = npz['y']\n",
    "x_input = demean_norm(x_input)\n",
    "\n",
    "print(x_input.shape, y_input.shape)"
   ]
  },
  {
   "cell_type": "markdown",
   "metadata": {},
   "source": [
    "### Step 2. Split data\n",
    "Here, we also split 100 subjects to 80/20, where 80 for training, and 20 for test."
   ]
  },
  {
   "cell_type": "code",
   "execution_count": 4,
   "metadata": {},
   "outputs": [
    {
     "name": "stdout",
     "output_type": "stream",
     "text": [
      "(80, 87571) (20, 87571) (80, 3) (20, 3)\n"
     ]
    }
   ],
   "source": [
    "from sklearn.model_selection import train_test_split\n",
    "x_train, x_test, y_train, y_test = train_test_split(x_input, y_input, test_size=0.2, random_state=42)\n",
    "n_subj_train, n_subj_test = x_train.shape[0], x_test.shape[0]\n",
    "print(x_train.shape, x_test.shape, y_train.shape, y_test.shape)"
   ]
  },
  {
   "cell_type": "markdown",
   "metadata": {},
   "source": [
    "### Step 3. Multilayer meta-matching models predict\n",
    "Here we apply the DNN and RR models trained on extra-large source dataset (UK Biobank), large source dataset (ABCD) and medium source dataset (GSP, HBN and eNKI) to predict source phenotypes on `x_train` and `x_test`. We will get the predicted 458 source phenotypes on both 80 training subjects and 20 test subjects (`y_train_pred` and `y_test_pred`), and the corresponding phenotype names (`y_names`)."
   ]
  },
  {
   "cell_type": "code",
   "execution_count": 5,
   "metadata": {},
   "outputs": [
    {
     "name": "stdout",
     "output_type": "stream",
     "text": [
      "458\n",
      "(80, 458) \n",
      " [[-0.10125838  0.03613428 -0.46239799 ...  0.39725083 -0.76892095\n",
      "  -1.44623037]\n",
      " [ 0.10885195 -0.16720149  0.49574935 ...  3.06916403  2.31081115\n",
      "   0.82206434]\n",
      " [ 0.10951973  0.2454676  -0.44824579 ... -0.80978381 -0.17417671\n",
      "  -0.14402823]\n",
      " ...\n",
      " [ 0.13027874  0.01848663 -0.1462169  ...  0.85882294  0.5268896\n",
      "   0.34999364]\n",
      " [-0.00888915 -0.21047002  0.36738572 ...  1.74289951  0.60727872\n",
      "   0.73831846]\n",
      " [-0.08907671  0.17226079 -0.29705456 ... -0.22615359  0.2034359\n",
      "   0.777701  ]]\n",
      "(20, 458) \n",
      " [[-0.06638002 -0.1506063   0.14014049 ...  1.52472606  1.45798438\n",
      "   0.87642115]\n",
      " [-0.01658378 -0.20561379  0.38617522 ...  1.10521609 -0.05357165\n",
      "   1.36535158]\n",
      " [ 0.04155716 -0.19629928  0.32053086 ...  1.45453133  0.99876183\n",
      "   1.01717683]\n",
      " ...\n",
      " [ 0.05204855 -0.17313382  0.32240981 ...  1.38678275  1.38245577\n",
      "  -0.23924607]\n",
      " [-0.17038347 -0.13663808  0.15161903 ...  1.81635212  0.30677864\n",
      "   1.71055661]\n",
      " [ 0.1023449   0.19847694 -0.43693689 ...  0.65697637  1.399204\n",
      "   0.85434613]]\n"
     ]
    }
   ],
   "source": [
    "# Inference using all DNN + RR models from all source datasets\n",
    "from CBIG_model_pytorch import multilayer_metamatching_infer\n",
    "dataset_names = {'extra-large': 'UKBB', 'large': 'ABCD', 'medium': ['GSP', 'HBN', 'eNKI']}\n",
    "y_train_pred, y_names = multilayer_metamatching_infer(x_train, y_train, model_v20_path, dataset_names)\n",
    "y_test_pred, _ = multilayer_metamatching_infer(x_test, y_test, model_v20_path, dataset_names)\n",
    "\n",
    "print(len(y_names))\n",
    "print(y_train_pred.shape, '\\n', y_train_pred)\n",
    "print(y_test_pred.shape, '\\n', y_test_pred)"
   ]
  },
  {
   "cell_type": "markdown",
   "metadata": {},
   "source": [
    "### Step 4. Stacking\n",
    "Perform stacking with `y_train_pred`, `y_test_pred`, `y_train`, where we use the prediction of 80 subjects `y_train_pred` (input) and real data `y_train` (output) to train the stacking model (you can either use all 67 source phenotypes for stacking, or select top K source phenotypes relevant to the target phenotype, like we mentioned in our paper; it turns out that these 2 ways achieves similar performances), then we applied the model to `y_test_pred` to get final prediction of 3 phenotypes on 20 subjects.\n",
    "\n",
    "#### Hyperparameter Tuning \n",
    "In `stacking()` function, we set the range of `alpha` as `[0.00001, 0.0001, 0.001, 0.004, 0.007, 0.01, 0.04, 0.07, 0.1, 0.4, 0.7, 1, 1.5, 2, 2.5, 3, 3.5, 4, 5, 10, 15, 20]`. You are weclomed to modify the range of `alpha` to get better performance on your own data."
   ]
  },
  {
   "cell_type": "code",
   "execution_count": 6,
   "metadata": {
    "scrolled": false
   },
   "outputs": [
    {
     "name": "stdout",
     "output_type": "stream",
     "text": [
      "(20, 3) \n",
      " [[61.62359808 27.93901759 27.64252235]\n",
      " [47.658789   19.92006732 17.27647632]\n",
      " [58.43337712 26.20132618 29.76981137]\n",
      " [20.36260652  7.39094979  6.64798866]\n",
      " [63.52666342 25.27519393 30.04042147]\n",
      " [29.72350055 11.76516165  9.60142366]\n",
      " [51.09027522 23.06604386 26.29862704]\n",
      " [31.23978765 12.49798075 12.69467152]\n",
      " [51.85516564 20.25201089 25.30294817]\n",
      " [66.28780239 26.16455697 30.73975801]\n",
      " [70.38900293 29.70561584 31.41852754]\n",
      " [61.30589263 27.47497718 26.8497007 ]\n",
      " [65.79098479 27.37919549 29.89891964]\n",
      " [69.60049003 30.0780364  32.97285101]\n",
      " [67.89407292 27.82349812 33.61771439]\n",
      " [45.53163788 21.1205561  18.77536153]\n",
      " [33.9616015  14.91249895 21.02459435]\n",
      " [37.69831782 16.09879595 13.11550474]\n",
      " [40.1757404  16.83000851 22.02049174]\n",
      " [46.42372843 19.09157674 19.88317101]]\n"
     ]
    }
   ],
   "source": [
    "from CBIG_model_pytorch import stacking\n",
    "y_test_final=np.zeros((y_test_pred.shape[0], y_train.shape[1]))\n",
    "for i in range(y_train.shape[1]):\n",
    "    # For each test phenotype, perform stacking by developing a KRR model\n",
    "    y_test_temp, _ = stacking(y_train_pred, y_test_pred, y_train[:,i].view(), [0.00001, 0.0001, 0.001, 0.004, 0.007, 0.01, 0.04, 0.07, 0.1, 0.4, 0.7, 1, 1.5, 2, 2.5, 3, 3.5, 4, 5, 10, 15, 20])\n",
    "    y_test_final[:,i] = y_test_temp.flatten()\n",
    "print(y_test_final.shape, '\\n', y_test_final)"
   ]
  },
  {
   "cell_type": "markdown",
   "metadata": {},
   "source": [
    "### Step 5. Evaluation\n",
    "Evaluate the prediction performance."
   ]
  },
  {
   "cell_type": "code",
   "execution_count": 7,
   "metadata": {},
   "outputs": [
    {
     "name": "stdout",
     "output_type": "stream",
     "text": [
      "[0.38619462 0.53118872 0.49750862]\n"
     ]
    }
   ],
   "source": [
    "from scipy.stats.stats import pearsonr\n",
    "corr = np.zeros((y_train.shape[1]))\n",
    "for i in range(y_train.shape[1]):\n",
    "    corr[i] = pearsonr(y_test_final[:, i], y_test[:, i])[0]\n",
    "print(corr)"
   ]
  },
  {
   "cell_type": "markdown",
   "metadata": {},
   "source": [
    "### Step 6. Haufe transform predictive network features (PNFs) computation\n",
    "Here we compute the PNF for stacking we just performed. It computes the covariance between 3 phenotype prediciton and each element of FC on the 80 training subjects, which helps identify how changes in FC are associated with increases or decreases in the phenotypic prediction. This process enables generating feature importance weights for each edge, indicating the contribution of each feature to the prediction. The final PNF is in shape of (87571, 3), where 87571 is number of 419 by 419 FC elements, and 3 is number of phenotypes."
   ]
  },
  {
   "cell_type": "code",
   "execution_count": 8,
   "metadata": {},
   "outputs": [
    {
     "name": "stdout",
     "output_type": "stream",
     "text": [
      "(80, 3)\n",
      "[[-3.15746420e-03 -1.29972049e-03 -7.34787839e-04]\n",
      " [-7.26632304e-04 -2.39789108e-04 -5.77203773e-04]\n",
      " [ 1.63102467e-03  8.37832777e-04 -5.88613070e-05]\n",
      " ...\n",
      " [ 1.87897411e-03  5.39591152e-04  8.30710471e-04]\n",
      " [ 2.86308689e-03  1.04940039e-03  1.45609124e-03]\n",
      " [ 5.07279448e-03  2.39546817e-03  1.21153472e-03]] \n",
      " (87571, 3)\n"
     ]
    }
   ],
   "source": [
    "from CBIG_model_pytorch import covariance_rowwise\n",
    "\n",
    "y_train_haufe, _ = stacking(y_train_pred, y_train_pred, y_train)\n",
    "print(y_train_haufe.shape)\n",
    "cov = covariance_rowwise(x_train, y_train_haufe)\n",
    "print(cov, '\\n', cov.shape)"
   ]
  },
  {
   "cell_type": "markdown",
   "metadata": {},
   "source": [
    "### Step 7. Haufe transform predictive network features (PNFs) computation for training phenotypes\n",
    "Here we compute the PNF for stacking we just performed. It computes the covariance between 3 phenotype prediciton and each training phenotypes on the 80 training subjects, which helps identify which source phenotypes are more associated with target phenotype prediction. The final PNF is in shape of (458, 3), where 458 is the number of source phenotypic predictions, and 3 is number of phenotypes."
   ]
  },
  {
   "cell_type": "code",
   "execution_count": 9,
   "metadata": {},
   "outputs": [
    {
     "name": "stdout",
     "output_type": "stream",
     "text": [
      "[[ 0.03974357 -0.01331241 -0.08194796]\n",
      " [-0.3313986  -0.17342801  0.01566548]\n",
      " [ 0.84347044  0.42487221  0.11818034]\n",
      " ...\n",
      " [ 3.09089228  1.49775607  0.77518796]\n",
      " [ 2.52328096  1.19044549  0.38457833]\n",
      " [ 2.08633564  1.15713255  1.60349482]] \n",
      " (458, 3)\n",
      "['Alcohol_1_DNN', 'Alcohol_2_DNN', 'Alcohol_3_DNN', 'Time_walk_DNN', 'Time_drive_DNN', 'Time_TV_DNN', 'Sleep_DNN', 'Age_edu_DNN', 'Work_DNN', 'Travel_DNN', '#household_DNN', 'Neuro_DNN', 'Hearing_DNN', 'Fluid_Int._DNN', 'Match_DNN', 'Sex_DNN', 'Match-o_DNN', 'Age_DNN', 'Trail-o_C1_DNN', 'Trail-o_C4_DNN', 'Digit-o_C1_DNN', 'Digit-o_C6_DNN', 'Sex_G_C1_DNN', 'Sex_G_C2_DNN', 'Genetic_C1_DNN', 'Cancer_C1_DNN', 'Urine_C1_DNN', 'Blood_C2_DNN', 'Blood_C3_DNN', 'Blood_C4_DNN', 'Blood_C5_DNN', 'Deprive_C1_DNN', 'Dur_C1_DNN', 'Dur_C2_DNN', 'Dur_C4_DNN', 'Trail_C1_DNN', 'Tower_C1_DNN', 'Digit_1_DNN', 'RT_C1_DNN', 'ProMem_C1_DNN', '#Mem_C1_DNN', 'Matrix_C1_DNN', 'Matrix_C2_DNN', 'Matrix_C3_DNN', 'Illness_C1_DNN', 'Illness_C4_DNN', 'Loc_C1_DNN', 'Breath_C1_DNN', 'Grip_C1_DNN', 'ECG_C1_DNN', 'ECG_C2_DNN', 'ECG_C3_DNN', 'ECG_C6_DNN', 'Carotid_C1_DNN', 'Carotid_C5_DNN', 'Bone_C1_DNN', 'Bone_C3_DNN', 'Body_C1_DNN', 'Body_C2_DNN', 'Body_C3_DNN', 'BP_eye_C2_DNN', 'BP_eye_C3_DNN', 'BP_eye_C4_DNN', 'BP_eye_C5_DNN', 'BP_eye_C6_DNN', 'Family_C1_DNN', 'Smoke_C1_DNN', 'Alcohol_1_KRR', 'Alcohol_2_KRR', 'Alcohol_3_KRR', 'Time_walk_KRR', 'Time_drive_KRR', 'Time_TV_KRR', 'Sleep_KRR', 'Age_edu_KRR', 'Work_KRR', 'Travel_KRR', '#household_KRR', 'Neuro_KRR', 'Hearing_KRR', 'Fluid_Int._KRR', 'Match_KRR', 'Sex_KRR', 'Match-o_KRR', 'Age_KRR', 'Trail-o_C1_KRR', 'Trail-o_C4_KRR', 'Digit-o_C1_KRR', 'Digit-o_C6_KRR', 'Sex_G_C1_KRR', 'Sex_G_C2_KRR', 'Genetic_C1_KRR', 'Cancer_C1_KRR', 'Urine_C1_KRR', 'Blood_C2_KRR', 'Blood_C3_KRR', 'Blood_C4_KRR', 'Blood_C5_KRR', 'Deprive_C1_KRR', 'Dur_C1_KRR', 'Dur_C2_KRR', 'Dur_C4_KRR', 'Trail_C1_KRR', 'Tower_C1_KRR', 'Digit_1_KRR', 'RT_C1_KRR', 'ProMem_C1_KRR', '#Mem_C1_KRR', 'Matrix_C1_KRR', 'Matrix_C2_KRR', 'Matrix_C3_KRR', 'Illness_C1_KRR', 'Illness_C4_KRR', 'Loc_C1_KRR', 'Breath_C1_KRR', 'Grip_C1_KRR', 'ECG_C1_KRR', 'ECG_C2_KRR', 'ECG_C3_KRR', 'ECG_C6_KRR', 'Carotid_C1_KRR', 'Carotid_C5_KRR', 'Bone_C1_KRR', 'Bone_C3_KRR', 'Body_C1_KRR', 'Body_C2_KRR', 'Body_C3_KRR', 'BP_eye_C2_KRR', 'BP_eye_C3_KRR', 'BP_eye_C4_KRR', 'BP_eye_C5_KRR', 'BP_eye_C6_KRR', 'Family_C1_KRR', 'Smoke_C1_KRR', 'cbcl_scr_syn_anxdep_r_1layer', 'cbcl_scr_syn_withdep_r_1layer', 'cbcl_scr_syn_somatic_r_1layer', 'cbcl_scr_syn_social_r_1layer', 'cbcl_scr_syn_thought_r_1layer', 'cbcl_scr_syn_attention_r_1layer', 'cbcl_scr_syn_rulebreak_r_1layer', 'cbcl_scr_syn_aggressive_r_1layer', 'nihtbx_picvocab_uncorrected_1layer', 'nihtbx_flanker_uncorrected_1layer', 'nihtbx_list_uncorrected_1layer', 'nihtbx_cardsort_uncorrected_1layer', 'nihtbx_pattern_uncorrected_1layer', 'nihtbx_picture_uncorrected_1layer', 'nihtbx_reading_uncorrected_1layer', 'nihtbx_fluidcomp_uncorrected_1layer', 'nihtbx_cryst_uncorrected_1layer', 'nihtbx_totalcomp_uncorrected_1layer', 'upps_y_ss_negative_urgency_1layer', 'upps_y_ss_lack_of_planning_1layer', 'upps_y_ss_sensation_seeking_1layer', 'upps_y_ss_positive_urgency_1layer', 'upps_y_ss_lack_of_perseverance_1layer', 'bis_y_ss_bis_sum_1layer', 'bis_y_ss_bas_rr_1layer', 'bis_y_ss_bas_drive_1layer', 'bis_y_ss_bas_fs_1layer', 'pps_y_ss_number_1layer', 'pps_y_ss_severity_score_1layer', 'pgbi_p_ss_score_1layer', 'pea_ravlt_sd_trial_vi_tc_1layer', 'pea_ravlt_ld_trial_vii_tc_1layer', 'pea_wiscv_trs_1layer', 'lmt_scr_perc_correct_1layer', 'lmt_scr_rt_correct_1layer', 'lmt_scr_efficiency_1layer', 'Flank_S_CORRpc_1layer', 'avg_MenRot_non0_CORRpc_1layer', 'Shipley_Vocab_Raw_1layer', 'Matrix_WAIS_1layer', 'STAI_tAnxiety_1layer', 'STAI_sAnxiety_1layer', 'POMS_TotMdDisturb_1layer', 'Barratt_tot_1layer', 'MindWandering_Freq_1layer', 'NEO_N_1layer', 'NEO_E_1layer', 'NEO_O_1layer', 'NEO_A_1layer', 'NEO_C_1layer', 'TCI_Novelty_1layer', 'TCI_RewardDependence_1layer', 'TCI_HarmAvoidance_1layer', 'DOSPERT_taking_1layer', 'DOSPERT_perception_1layer', 'BISBAS_BAS_Drive_1layer', 'BISBAS_BAS_Fun_1layer', 'BISBAS_BAS_Reward_1layer', 'BISBAS_BIS_1layer', 'SDQ_Conduct_Problems_1layer', 'SDQ_Difficulties_Total_1layer', 'SDQ_Emotional_Problems_1layer', 'SDQ_Externalizing_1layer', 'SDQ_Generating_Impact_1layer', 'SDQ_Hyperactivity_1layer', 'SDQ_Internalizing_1layer', 'SDQ_Peer_Problems_1layer', 'SDQ_Prosocial_1layer', 'SRS_AWR_T_1layer', 'SRS_COG_T_1layer', 'SRS_COM_T_1layer', 'SRS_DSMRRB_T_1layer', 'SRS_MOT_T_1layer', 'SRS_RRB_T_1layer', 'SRS_SCI_T_1layer', 'SCQ_Total_1layer', 'ASSQ_Total_1layer', 'SWAN_IN_Avg_1layer', 'SWAN_HY_Avg_1layer', 'ARI_S_Total_Score_1layer', 'ARI_P_Total_Score_1layer', 'CBCL_AD_T_1layer', 'CBCL_WD_T_1layer', 'CBCL_SC_T_1layer', 'CBCL_SP_T_1layer', 'CBCL_TP_T_1layer', 'CBCL_AP_T_1layer', 'CBCL_RBB_T_1layer', 'CBCL_AB_T_1layer', 'CBCL_OP_1layer', 'CBCL_Int_T_1layer', 'CBCL_Ext_T_1layer', 'CELF_Total_1layer', 'WIAT_Num_Stnd_1layer', 'WIAT_Pseudo_Stnd_1layer', 'WIAT_Spell_Stnd_1layer', 'WIAT_Word_Stnd_1layer', 'NIH7_Card_1layer', 'NIH7_Flanker_1layer', 'NIH7_List_1layer', 'NIH7_Pattern_1layer', 'ANT_01_1layer', 'ANT_02_1layer', 'ANT_03_1layer', 'DF_23_1layer', 'DF_25_1layer', 'DF_27_1layer', 'DF_29_1layer', 'DKEFSTMT_18_1layer', 'DKEFSTMT_19_1layer', 'DKEFSTMT_20_1layer', 'DKEFSTMT_21_1layer', 'DKEFSTMT_22_1layer', 'DKEFSTMT_24_1layer', 'DKEFSTMT_26_1layer', 'DKEFSTMT_28_1layer', 'DKEFSTMT_30_1layer', 'DKEFSTMT_32_1layer', 'DKEFSTMT_34_1layer', 'TOWER_47_1layer', 'TOWER_49_1layer', 'TOWER_51_1layer', 'TOWER_53_1layer', 'TOWER_55_1layer', 'TOWER_57_1layer', 'DEHQ_16_1layer', 'PTSDCH_55_1layer', 'INT_12_1layer', 'INT_13_1layer', 'INT_14_1layer', 'WIAT_04_1layer', 'WIAT_05_1layer', 'WIAT_06_1layer', 'WIAT_08_1layer', 'PENNCNP_0136_1layer', 'PENNCNP_0137_1layer', 'PENNCNP_0139_1layer', 'PENNCNP_0140_1layer', 'PENNCNP_0131_1layer', 'VF_32_1layer', 'VF_34_1layer', 'VF_35_1layer', 'VF_37_1layer', 'VF_39_1layer', 'VF_41_1layer', 'VF_43_1layer', 'VF_45_1layer', 'VF_47_1layer', 'VF_49_1layer', 'VF_51_1layer', 'VF_54_1layer', 'DKEFSCWI_13_1layer', 'DKEFSCWI_14_1layer', 'DKEFSCWI_15_1layer', 'DKEFSCWI_16_1layer', 'DKEFSCWI_18_1layer', 'DKEFSCWI_20_1layer', 'DKEFSCWI_22_1layer', 'DKEFSCWI_24_1layer', 'DKEFSCWI_26_1layer', 'DKEFSCWI_28_1layer', 'DKEFSCWI_40_1layer', 'cbcl_scr_syn_anxdep_r_2layer', 'cbcl_scr_syn_withdep_r_2layer', 'cbcl_scr_syn_somatic_r_2layer', 'cbcl_scr_syn_social_r_2layer', 'cbcl_scr_syn_thought_r_2layer', 'cbcl_scr_syn_attention_r_2layer', 'cbcl_scr_syn_rulebreak_r_2layer', 'cbcl_scr_syn_aggressive_r_2layer', 'nihtbx_picvocab_uncorrected_2layer', 'nihtbx_flanker_uncorrected_2layer', 'nihtbx_list_uncorrected_2layer', 'nihtbx_cardsort_uncorrected_2layer', 'nihtbx_pattern_uncorrected_2layer', 'nihtbx_picture_uncorrected_2layer', 'nihtbx_reading_uncorrected_2layer', 'nihtbx_fluidcomp_uncorrected_2layer', 'nihtbx_cryst_uncorrected_2layer', 'nihtbx_totalcomp_uncorrected_2layer', 'upps_y_ss_negative_urgency_2layer', 'upps_y_ss_lack_of_planning_2layer', 'upps_y_ss_sensation_seeking_2layer', 'upps_y_ss_positive_urgency_2layer', 'upps_y_ss_lack_of_perseverance_2layer', 'bis_y_ss_bis_sum_2layer', 'bis_y_ss_bas_rr_2layer', 'bis_y_ss_bas_drive_2layer', 'bis_y_ss_bas_fs_2layer', 'pps_y_ss_number_2layer', 'pps_y_ss_severity_score_2layer', 'pgbi_p_ss_score_2layer', 'pea_ravlt_sd_trial_vi_tc_2layer', 'pea_ravlt_ld_trial_vii_tc_2layer', 'pea_wiscv_trs_2layer', 'lmt_scr_perc_correct_2layer', 'lmt_scr_rt_correct_2layer', 'lmt_scr_efficiency_2layer', 'Flank_S_CORRpc_2layer', 'avg_MenRot_non0_CORRpc_2layer', 'Shipley_Vocab_Raw_2layer', 'Matrix_WAIS_2layer', 'STAI_tAnxiety_2layer', 'STAI_sAnxiety_2layer', 'POMS_TotMdDisturb_2layer', 'Barratt_tot_2layer', 'MindWandering_Freq_2layer', 'NEO_N_2layer', 'NEO_E_2layer', 'NEO_O_2layer', 'NEO_A_2layer', 'NEO_C_2layer', 'TCI_Novelty_2layer', 'TCI_RewardDependence_2layer', 'TCI_HarmAvoidance_2layer', 'DOSPERT_taking_2layer', 'DOSPERT_perception_2layer', 'BISBAS_BAS_Drive_2layer', 'BISBAS_BAS_Fun_2layer', 'BISBAS_BAS_Reward_2layer', 'BISBAS_BIS_2layer', 'SDQ_Conduct_Problems_2layer', 'SDQ_Difficulties_Total_2layer', 'SDQ_Emotional_Problems_2layer', 'SDQ_Externalizing_2layer', 'SDQ_Generating_Impact_2layer', 'SDQ_Hyperactivity_2layer', 'SDQ_Internalizing_2layer', 'SDQ_Peer_Problems_2layer', 'SDQ_Prosocial_2layer', 'SRS_AWR_T_2layer', 'SRS_COG_T_2layer', 'SRS_COM_T_2layer', 'SRS_DSMRRB_T_2layer', 'SRS_MOT_T_2layer', 'SRS_RRB_T_2layer', 'SRS_SCI_T_2layer', 'SCQ_Total_2layer', 'ASSQ_Total_2layer', 'SWAN_IN_Avg_2layer', 'SWAN_HY_Avg_2layer', 'ARI_S_Total_Score_2layer', 'ARI_P_Total_Score_2layer', 'CBCL_AD_T_2layer', 'CBCL_WD_T_2layer', 'CBCL_SC_T_2layer', 'CBCL_SP_T_2layer', 'CBCL_TP_T_2layer', 'CBCL_AP_T_2layer', 'CBCL_RBB_T_2layer', 'CBCL_AB_T_2layer', 'CBCL_OP_2layer', 'CBCL_Int_T_2layer', 'CBCL_Ext_T_2layer', 'CELF_Total_2layer', 'WIAT_Num_Stnd_2layer', 'WIAT_Pseudo_Stnd_2layer', 'WIAT_Spell_Stnd_2layer', 'WIAT_Word_Stnd_2layer', 'NIH7_Card_2layer', 'NIH7_Flanker_2layer', 'NIH7_List_2layer', 'NIH7_Pattern_2layer', 'ANT_01_2layer', 'ANT_02_2layer', 'ANT_03_2layer', 'DF_23_2layer', 'DF_25_2layer', 'DF_27_2layer', 'DF_29_2layer', 'DKEFSTMT_18_2layer', 'DKEFSTMT_19_2layer', 'DKEFSTMT_20_2layer', 'DKEFSTMT_21_2layer', 'DKEFSTMT_22_2layer', 'DKEFSTMT_24_2layer', 'DKEFSTMT_26_2layer', 'DKEFSTMT_28_2layer', 'DKEFSTMT_30_2layer', 'DKEFSTMT_32_2layer', 'DKEFSTMT_34_2layer', 'TOWER_47_2layer', 'TOWER_49_2layer', 'TOWER_51_2layer', 'TOWER_53_2layer', 'TOWER_55_2layer', 'TOWER_57_2layer', 'DEHQ_16_2layer', 'PTSDCH_55_2layer', 'INT_12_2layer', 'INT_13_2layer', 'INT_14_2layer', 'WIAT_04_2layer', 'WIAT_05_2layer', 'WIAT_06_2layer', 'WIAT_08_2layer', 'PENNCNP_0136_2layer', 'PENNCNP_0137_2layer', 'PENNCNP_0139_2layer', 'PENNCNP_0140_2layer', 'PENNCNP_0131_2layer', 'VF_32_2layer', 'VF_34_2layer', 'VF_35_2layer', 'VF_37_2layer', 'VF_39_2layer', 'VF_41_2layer', 'VF_43_2layer', 'VF_45_2layer', 'VF_47_2layer', 'VF_49_2layer', 'VF_51_2layer', 'VF_54_2layer', 'DKEFSCWI_13_2layer', 'DKEFSCWI_14_2layer', 'DKEFSCWI_15_2layer', 'DKEFSCWI_16_2layer', 'DKEFSCWI_18_2layer', 'DKEFSCWI_20_2layer', 'DKEFSCWI_22_2layer', 'DKEFSCWI_24_2layer', 'DKEFSCWI_26_2layer', 'DKEFSCWI_28_2layer', 'DKEFSCWI_40_2layer']\n"
     ]
    }
   ],
   "source": [
    "cov = covariance_rowwise(y_train_pred, y_train_haufe)\n",
    "print(cov, '\\n', cov.shape)\n",
    "print(y_names) # source phenotype names in order"
   ]
  }
 ],
 "metadata": {
  "interpreter": {
   "hash": "9211f842e4957b840c6ab516fe1756049fc8809c71ad1557ffcdfc52960e8d65"
  },
  "kernelspec": {
   "display_name": "Python 3 (ipykernel)",
   "language": "python",
   "name": "python3"
  },
  "language_info": {
   "codemirror_mode": {
    "name": "ipython",
    "version": 3
   },
   "file_extension": ".py",
   "mimetype": "text/x-python",
   "name": "python",
   "nbconvert_exporter": "python",
   "pygments_lexer": "ipython3",
   "version": "3.8.5"
  }
 },
 "nbformat": 4,
 "nbformat_minor": 2
}
