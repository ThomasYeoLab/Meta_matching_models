{
 "cells": [
  {
   "cell_type": "markdown",
   "metadata": {},
   "source": [
    "## Meta matching v1.1\n",
    "This jupyter notebook demonstrates you how to load and use meta-matching algorthm. In this demonstration, we performed Meta-matching (DNN) stacking with 100 example subjects.\n",
    "\n",
    "Package needed (and version this jupyter notebook tested):\n",
    "* Numpy (1.24.4)\n",
    "* Scipy (1.10.1)\n",
    "* PyTorch (2.0.0)\n",
    "* Scikit-learn (1.3.2)"
   ]
  },
  {
   "cell_type": "markdown",
   "metadata": {},
   "source": [
    "### Step 0. Setup\n",
    "Please modify the `path_repo` below to your repo position:"
   ]
  },
  {
   "cell_type": "code",
   "execution_count": 1,
   "metadata": {},
   "outputs": [],
   "source": [
    "path_repo = '../'#'/home/the/deepGround/code/2002/Meta_matching_models/'"
   ]
  },
  {
   "cell_type": "code",
   "execution_count": 2,
   "metadata": {
    "scrolled": true
   },
   "outputs": [],
   "source": [
    "# initialization and random seed set\n",
    "\n",
    "import os\n",
    "import sys\n",
    "import random\n",
    "import scipy\n",
    "import torch\n",
    "import sklearn\n",
    "import numpy as np\n",
    "\n",
    "seed = 42\n",
    "random.seed(seed)\n",
    "np.random.seed(seed)\n",
    "torch.manual_seed(seed)\n",
    "torch.cuda.manual_seed(seed)\n",
    "torch.cuda.manual_seed_all(seed)\n",
    "\n",
    "import warnings\n",
    "warnings.filterwarnings(\"ignore\")"
   ]
  },
  {
   "cell_type": "markdown",
   "metadata": {},
   "source": [
    "Please modify the gpu number here if you want to use different gpu. If the gpu you assigned not availiable, it will assign to cpu"
   ]
  },
  {
   "cell_type": "code",
   "execution_count": 3,
   "metadata": {},
   "outputs": [],
   "source": [
    "gpu = 0\n",
    "os.environ[\"CUDA_VISIBLE_DEVICES\"] = str(gpu)\n",
    "device = torch.device(\"cuda\" if torch.cuda.is_available() else \"cpu\")"
   ]
  },
  {
   "cell_type": "markdown",
   "metadata": {},
   "source": [
    "### Step 1. load data\n",
    "Load the example data that we provided, it contains \n",
    "* Example input functional connectivity (FC) `x` with size of (100, 87571)\n",
    "    * 100 is number of subjects\n",
    "    * 87571 is flatten vector of 419 by 419 FC (419*418/2=87571)\n",
    "    * We perform participant-wise normalization (demean the FC vector and devide by l2 norm of the FC vector for each participant), using mean and std of 87571 elements of each subject\n",
    "* Example output phenotypes `y` with size of (100, 3)\n",
    "    * 3 is number of phenotypes."
   ]
  },
  {
   "cell_type": "code",
   "execution_count": 4,
   "metadata": {},
   "outputs": [
    {
     "name": "stdout",
     "output_type": "stream",
     "text": [
      "['x', 'y']\n",
      "(100, 87571) (100, 3)\n"
     ]
    }
   ],
   "source": [
    "path_v11 = os.path.join(path_repo, 'v1.1')\n",
    "path_data = os.path.join(path_repo, 'data')\n",
    "sys.path.append(os.path.join(path_repo, \"utils\"))\n",
    "from CBIG_model_pytorch import demean_norm\n",
    "\n",
    "npz = os.path.join(path_data, 'meta_matching_example_data.npz')\n",
    "npz = np.load(npz)\n",
    "print(npz.files)\n",
    "x_input = npz['x']\n",
    "y_input = npz['y']\n",
    "x_input = demean_norm(x_input)\n",
    "print(x_input.shape, y_input.shape)"
   ]
  },
  {
   "cell_type": "markdown",
   "metadata": {},
   "source": [
    "### Step 2. Split data\n",
    "Here, we also split 100 subjects to 80/20, where 80 for training, and 20 for test."
   ]
  },
  {
   "cell_type": "code",
   "execution_count": 6,
   "metadata": {},
   "outputs": [
    {
     "name": "stdout",
     "output_type": "stream",
     "text": [
      "(80, 87571) (20, 87571) (80, 3) (20, 3)\n"
     ]
    }
   ],
   "source": [
    "from sklearn.model_selection import train_test_split\n",
    "x_train, x_test, y_train, y_test = train_test_split(x_input, y_input, test_size=0.2, random_state=42)\n",
    "print(x_train.shape, x_test.shape, y_train.shape, y_test.shape)"
   ]
  },
  {
   "cell_type": "markdown",
   "metadata": {},
   "source": [
    "After we split out the subjects, we apply z-normalization to both training and testing set, using data in the training set."
   ]
  },
  {
   "cell_type": "code",
   "execution_count": 7,
   "metadata": {},
   "outputs": [],
   "source": [
    "def z_norm(y_train, y_test):\n",
    "    # subtract mean of y of the training set\n",
    "    t_mu = np.nanmean(y_train, axis=0, keepdims=True)\n",
    "    y_train = y_train - t_mu\n",
    "    y_test = y_test - t_mu\n",
    "\n",
    "    # divide std of y of the training set\n",
    "    t_sigma = np.nanstd(y_train, axis=0)\n",
    "    if y_train.ndim == 2:\n",
    "        t_sigma_d = t_sigma[np.newaxis, :]\n",
    "    else:\n",
    "        t_sigma_d = t_sigma\n",
    "        if t_sigma == 0:\n",
    "            return y_train, y_test\n",
    "    y_train = y_train / t_sigma_d\n",
    "    y_test = y_test / t_sigma_d\n",
    "    return y_train, y_test\n",
    "\n",
    "y_train, y_test = z_norm(y_train, y_test)"
   ]
  },
  {
   "cell_type": "markdown",
   "metadata": {},
   "source": [
    "### Step 3. Prepare data for PyTorch model\n",
    "Then we prepare data for DNN model, we will input both the `x_train` and `x_test` into the model to get the predicted phenotypes. \n",
    "\n",
    "For meta-matching (DNN) stacking, we do not need real phenotype for the DNN model, I created all zeros `y_dummy` just for function requirement. In some other cases, like meta-matching (DNN) finetuning, you need to use real phenotype data here."
   ]
  },
  {
   "cell_type": "code",
   "execution_count": 8,
   "metadata": {},
   "outputs": [],
   "source": [
    "from torch.utils.data import DataLoader\n",
    "from CBIG_model_pytorch import multi_task_dataset\n",
    "\n",
    "batch_size = 16\n",
    "y_dummy = np.zeros(y_train.shape)\n",
    "dset_train = multi_task_dataset(x_train, y_dummy, True)\n",
    "trainLoader = DataLoader(dset_train,\n",
    "                         batch_size=batch_size,\n",
    "                         shuffle=False,\n",
    "                         num_workers=1)\n",
    "\n",
    "y_dummy = np.zeros(y_test.shape)\n",
    "dset_test = multi_task_dataset(x_test, y_dummy, True)\n",
    "testLoader = DataLoader(dset_test,\n",
    "                        batch_size=batch_size,\n",
    "                        shuffle=False,\n",
    "                        num_workers=1)"
   ]
  },
  {
   "cell_type": "markdown",
   "metadata": {},
   "source": [
    "### Step 4. load model\n",
    "Here we load the meta-matching model saved, it is a DNN that takes FC as input and output 67 phenotypes prediction trained on 67 UK Biobank phenotypes"
   ]
  },
  {
   "cell_type": "code",
   "execution_count": 9,
   "metadata": {
    "scrolled": true
   },
   "outputs": [
    {
     "name": "stdout",
     "output_type": "stream",
     "text": [
      "dnn(\n",
      "  (layers): ModuleList(\n",
      "    (0): Sequential(\n",
      "      (0): Dropout(p=0.3, inplace=False)\n",
      "      (1): Linear(in_features=87571, out_features=256, bias=True)\n",
      "      (2): ReLU()\n",
      "      (3): BatchNorm1d(256, eps=1e-05, momentum=0.1, affine=True, track_running_stats=True)\n",
      "    )\n",
      "    (1-2): 2 x Sequential(\n",
      "      (0): Dropout(p=0.3, inplace=False)\n",
      "      (1): Linear(in_features=256, out_features=256, bias=True)\n",
      "      (2): ReLU()\n",
      "      (3): BatchNorm1d(256, eps=1e-05, momentum=0.1, affine=True, track_running_stats=True)\n",
      "    )\n",
      "    (3): Sequential(\n",
      "      (0): Dropout(p=0.3, inplace=False)\n",
      "      (1): Linear(in_features=256, out_features=67, bias=True)\n",
      "    )\n",
      "  )\n",
      ")\n"
     ]
    }
   ],
   "source": [
    "path_model_weight = os.path.join(path_v11, 'meta_matching_v1.1_model.pkl_torch') \n",
    "net = torch.load(path_model_weight, map_location=device)\n",
    "net.to(device)\n",
    "net.train(False)\n",
    "print(net)"
   ]
  },
  {
   "cell_type": "markdown",
   "metadata": {},
   "source": [
    "### Step 5. DNN model predict\n",
    "Here we apply the DNN trained on 67 UK Biobank phenotypes to predict the 67 phenotypes on `x_train` and `x_test`. We will get the predicted 67 phenotypes on both 80 training subjects and 20 test subjects."
   ]
  },
  {
   "cell_type": "code",
   "execution_count": 10,
   "metadata": {},
   "outputs": [
    {
     "name": "stdout",
     "output_type": "stream",
     "text": [
      "(80, 67) \n",
      " [[-0.15115939 -0.0669269  -0.54655945 ... -0.11759652 -0.50293493\n",
      "  -0.37641898]\n",
      " [ 0.29037341 -0.20854312  0.23705281 ...  0.15359323 -0.07533579\n",
      "  -0.01452626]\n",
      " [ 0.10086952  0.20367797 -0.53936934 ... -0.04685985 -0.14448746\n",
      "  -0.0352214 ]\n",
      " ...\n",
      " [ 0.05406483 -0.03227098  0.01010649 ...  0.10382769  0.06453447\n",
      "   0.05130197]\n",
      " [-0.02054616 -0.17987496  0.16705912 ...  0.1099993  -0.22622883\n",
      "  -0.34170136]\n",
      " [-0.10911851  0.1235078  -0.43411684 ... -0.07488919 -0.53739721\n",
      "  -0.25947312]]\n",
      "(20, 67) \n",
      " [[-0.05762977 -0.17934641  0.16057274 ...  0.16511196 -0.55663419\n",
      "  -0.25849211]\n",
      " [ 0.01560813 -0.1447289   0.19979201 ...  0.13954791  0.01221326\n",
      "  -0.41223368]\n",
      " [ 0.05661141 -0.21707436  0.19259959 ...  0.1661057  -0.24444117\n",
      "  -0.16643339]\n",
      " ...\n",
      " [-0.01382108 -0.12719817  0.20016837 ...  0.12121779 -0.3225328\n",
      "   0.05766377]\n",
      " [-0.15039191 -0.21929874  0.01748165 ...  0.12292579 -0.37921736\n",
      "  -0.48630229]\n",
      " [ 0.15801945  0.05928478 -0.45958135 ... -0.1126053   0.15486319\n",
      "  -0.21450146]]\n"
     ]
    }
   ],
   "source": [
    "y_train_pred = np.zeros((0, 67))\n",
    "for (x, _) in trainLoader:\n",
    "    x= x.to(device)\n",
    "    outputs = net(x)\n",
    "    y_train_pred = np.concatenate((y_train_pred, outputs.data.cpu().numpy()), axis=0)\n",
    "print(y_train_pred.shape, '\\n', y_train_pred)\n",
    "\n",
    "y_test_pred = np.zeros((0, 67))\n",
    "for (x, _) in testLoader:\n",
    "    x= x.to(device)\n",
    "    outputs = net(x)\n",
    "    y_test_pred = np.concatenate((y_test_pred, outputs.data.cpu().numpy()), axis=0)\n",
    "print(y_test_pred.shape, '\\n', y_test_pred)"
   ]
  },
  {
   "cell_type": "markdown",
   "metadata": {},
   "source": [
    "### Step 6. Stacking\n",
    "Perform stacking with `y_train_pred`, `y_test_pred`, `y_train`, where we use the prediction of 80 subjects `y_train_pred` (input) and real data `y_train` (output) to train the stacking model (you can either use all 67 source phenotypes for stacking, or select top K source phenotypes relevant to the target phenotype, like we mentioned in our paper; it turns out that these 2 ways achieves similar performances), then we applied the model to `y_test_pred` to get final prediction of 3 phenotypes on 20 subjects.\n",
    "\n",
    "#### Hyperparameter Tuning \n",
    "In `stacking()` function, we set the range of `alpha` as `[0.00001, 0.0001, 0.001, 0.004, 0.007, 0.01, 0.04, 0.07, 0.1, 0.4, 0.7, 1, 1.5, 2, 2.5, 3, 3.5, 4, 5, 10, 15, 20]`. You are weclomed to modify the range of `alpha` to get better performance on your own data."
   ]
  },
  {
   "cell_type": "code",
   "execution_count": 11,
   "metadata": {
    "scrolled": false
   },
   "outputs": [
    {
     "name": "stdout",
     "output_type": "stream",
     "text": [
      "(20, 3) \n",
      " [[ 0.4913766   0.62631824  0.18645581]\n",
      " [ 0.38043247  0.34795771  0.25650832]\n",
      " [ 0.47721059  0.50117837  0.1833064 ]\n",
      " [-0.3285022  -0.27597382 -0.12594698]\n",
      " [ 0.34427317  0.26884023  0.21047081]\n",
      " [-0.14829715 -0.14942112 -0.09516254]\n",
      " [ 0.29252215  0.29282001  0.20900234]\n",
      " [-0.39725529 -0.36118301 -0.19106383]\n",
      " [-0.41640963 -0.57297535 -0.09578888]\n",
      " [ 0.34701785  0.28048247  0.21947869]\n",
      " [-0.48536224 -0.65088255 -0.1103963 ]\n",
      " [ 0.14344771  0.2514617   0.07791609]\n",
      " [ 0.40045764  0.36931898  0.2105459 ]\n",
      " [ 0.23353501  0.15623559  0.17580163]\n",
      " [ 0.2169887   0.20669226  0.23414636]\n",
      " [ 0.15605415  0.26773961 -0.02709453]\n",
      " [-0.40748142 -0.34518476 -0.0845362 ]\n",
      " [ 0.24727978  0.25942492 -0.09948186]\n",
      " [ 0.44207504  0.48973673  0.30049635]\n",
      " [-0.33514239 -0.46463813 -0.02771175]]\n"
     ]
    }
   ],
   "source": [
    "from CBIG_model_pytorch import stacking\n",
    "y_test_final=np.zeros((y_test_pred.shape[0], y_train.shape[1]))\n",
    "for i in range(y_train.shape[1]):\n",
    "    # For each test phenotype, perform stacking by developing a KRR model\n",
    "    y_test_temp, _ = stacking(y_train_pred, y_test_pred, y_train[:,i].view(), [0.00001, 0.0001, 0.001, 0.004, 0.007, 0.01, 0.04, 0.07, 0.1, 0.4, 0.7, 1, 1.5, 2, 2.5, 3, 3.5, 4, 5, 10, 15, 20])\n",
    "    y_test_final[:,i] = y_test_temp.flatten()\n",
    "print(y_test_final.shape, '\\n', y_test_final)"
   ]
  },
  {
   "cell_type": "markdown",
   "metadata": {},
   "source": [
    "### Step 7. Evaluation\n",
    "Evaluate the prediction performance. Note that we didn't reverse the z-normalization which previously applied on `y_train` and `y_test`. This is because the metric (Pearson correlation) would not be affected by z-normalization. If you are predicting the phenotypes for practical use, you are recommended to reverse the z-normalization"
   ]
  },
  {
   "cell_type": "code",
   "execution_count": 12,
   "metadata": {},
   "outputs": [
    {
     "name": "stdout",
     "output_type": "stream",
     "text": [
      "[0.35514837 0.3138165  0.33030006]\n"
     ]
    }
   ],
   "source": [
    "from scipy.stats.stats import pearsonr\n",
    "corr = np.zeros((y_train.shape[1]))\n",
    "for i in range(y_train.shape[1]):\n",
    "    corr[i] = pearsonr(y_test_final[:, i], y_test[:, i])[0]\n",
    "print(corr)"
   ]
  },
  {
   "cell_type": "markdown",
   "metadata": {},
   "source": [
    "### Step 8. Haufe transform predictive network features (PNFs) computation\n",
    "Here we compute the PNF for stacking we just performed. It computes the covariance between 3 phenotype prediciton and each element of FC on the 80 training subjects. The final PNF is in shape of (87571, 3), where 87571 is number of 419 by 419 FC elements, and 3 is number of phenotypes."
   ]
  },
  {
   "cell_type": "code",
   "execution_count": 13,
   "metadata": {},
   "outputs": [
    {
     "name": "stdout",
     "output_type": "stream",
     "text": [
      "(80, 3)\n",
      "[[-1.69506336e-04 -1.54628114e-04 -1.11766445e-04]\n",
      " [-6.55518003e-05 -5.72385588e-05 -5.66451097e-05]\n",
      " [-2.30731702e-04 -2.20008981e-04 -2.12088125e-04]\n",
      " ...\n",
      " [ 1.44474389e-04  1.24612995e-04  1.43483677e-04]\n",
      " [ 2.06369212e-04  1.83499597e-04  1.78814555e-04]\n",
      " [ 1.04217654e-04  8.84985452e-05  4.54989622e-05]] \n",
      " (87571, 3)\n"
     ]
    }
   ],
   "source": [
    "from CBIG_model_pytorch import covariance_rowwise\n",
    "\n",
    "y_train_haufe, _ = stacking(y_train_pred, y_train_pred, y_train)\n",
    "print(y_train_haufe.shape)\n",
    "cov = covariance_rowwise(x_train, y_train_haufe)\n",
    "print(cov, '\\n', cov.shape)"
   ]
  },
  {
   "cell_type": "markdown",
   "metadata": {},
   "source": [
    "### Step 9. Haufe transform predictive network features (PNFs) computation for training phenotypes\n",
    "Here we compute the PNF for stacking we just performed. It computes the covariance between 3 phenotype prediciton and each training phenotypes on the 80 training subjects. The final PNF is in shape of (67, 3), where 67 is number of training phenotypes, and 3 is number of phenotypes."
   ]
  },
  {
   "cell_type": "code",
   "execution_count": 14,
   "metadata": {},
   "outputs": [
    {
     "name": "stdout",
     "output_type": "stream",
     "text": [
      "[[ 1.32608351e-02  9.63462855e-03  6.54047545e-03]\n",
      " [-3.47620989e-02 -3.51622313e-02 -1.23244510e-02]\n",
      " [ 1.02205852e-01  9.95429640e-02  4.72639905e-02]\n",
      " [ 1.18318519e-03  3.37838055e-03  3.06332652e-03]\n",
      " [ 8.04337794e-03  5.31870769e-03 -6.85581514e-03]\n",
      " [-1.16693944e-02 -1.35825513e-02 -2.67586990e-02]\n",
      " [ 1.35861038e-02  1.41768973e-02  1.63911172e-02]\n",
      " [ 1.64290300e-02  1.66009107e-02  2.22180825e-02]\n",
      " [ 7.13119308e-02  6.46184689e-02  3.56405776e-02]\n",
      " [ 1.69930153e-04 -4.19885311e-03 -7.71350143e-03]\n",
      " [ 4.54026476e-02  4.00091577e-02  3.43061995e-02]\n",
      " [-4.44247298e-02 -4.71443056e-02 -1.91862230e-02]\n",
      " [-1.50066688e-02 -1.32138653e-02 -1.26282887e-02]\n",
      " [ 6.42879988e-02  6.00446199e-02  6.79775498e-02]\n",
      " [ 3.01064308e-02  2.72376669e-02  2.87876017e-02]\n",
      " [ 2.61667808e-01  2.61756351e-01  1.33788236e-01]\n",
      " [-5.40860783e-02 -4.52216158e-02 -3.98557722e-02]\n",
      " [-1.95923281e-02 -5.36350048e-03 -3.71716724e-02]\n",
      " [-6.76770744e-02 -6.14991707e-02 -5.84364257e-02]\n",
      " [-9.53418702e-03 -8.99053206e-03 -5.63631183e-03]\n",
      " [ 4.93902942e-02  3.99216913e-02  5.39849948e-02]\n",
      " [ 1.94562671e-02  1.80140729e-02  1.05692885e-02]\n",
      " [-6.68498782e-02 -6.61288651e-02 -3.42880712e-02]\n",
      " [ 2.37814911e-01  2.37995267e-01  1.21749791e-01]\n",
      " [-1.50707451e-01 -1.33299508e-01 -1.16901960e-01]\n",
      " [ 6.68869524e-02  7.53080604e-02  1.87934955e-02]\n",
      " [-5.74042633e-03 -4.81268131e-03 -9.18706878e-03]\n",
      " [-1.77670803e-01 -1.76154408e-01 -7.66125583e-02]\n",
      " [ 5.54593076e-02  5.93454681e-02  2.38850757e-02]\n",
      " [ 9.59563271e-02  9.54096122e-02  6.91319130e-02]\n",
      " [ 3.97577784e-02  4.14944924e-02  3.20571869e-02]\n",
      " [ 2.77446004e-02  2.96282314e-02  3.25616206e-02]\n",
      " [-2.61600150e-02 -2.39425207e-02 -1.70313913e-02]\n",
      " [ 1.76463904e-02  2.13643275e-02  2.09029003e-02]\n",
      " [ 5.05598949e-02  4.54006059e-02  4.25457338e-02]\n",
      " [-2.82734680e-02 -2.08749760e-02 -3.39648320e-02]\n",
      " [-7.19221183e-02 -6.44499938e-02 -6.18556777e-02]\n",
      " [ 5.31475175e-02  4.35726322e-02  5.55576207e-02]\n",
      " [-5.79065299e-02 -5.11581966e-02 -4.50613889e-02]\n",
      " [ 1.63587355e-02  2.16831583e-02  2.54254583e-02]\n",
      " [ 4.55892025e-02  4.23781259e-02  4.07217174e-02]\n",
      " [ 5.22277472e-03 -2.50932707e-03  1.22442266e-02]\n",
      " [-6.35361455e-02 -5.84515360e-02 -6.68361806e-02]\n",
      " [ 4.41196505e-02  4.24147175e-02  3.52165859e-02]\n",
      " [-4.02154886e-02 -3.63973022e-02 -5.17071502e-02]\n",
      " [-7.68858372e-03 -9.07043838e-03 -1.48640031e-02]\n",
      " [ 1.76652132e-02  1.48722803e-02  4.60520564e-03]\n",
      " [-2.17417063e-01 -2.10943225e-01 -1.39269590e-01]\n",
      " [-2.15990851e-01 -2.12791623e-01 -1.24766288e-01]\n",
      " [ 2.05639090e-01  2.04375393e-01  1.18911716e-01]\n",
      " [ 4.78397518e-03  3.28619334e-03 -2.34002259e-03]\n",
      " [ 5.59027235e-02  5.02988715e-02  2.71718225e-02]\n",
      " [ 3.46031368e-02  4.16014818e-02 -5.84560245e-03]\n",
      " [ 1.84837755e-02  2.43354038e-02 -8.17730784e-03]\n",
      " [ 8.52060730e-03  7.88352122e-03 -5.74583821e-03]\n",
      " [ 6.44237690e-02  6.12091806e-02  2.97339720e-02]\n",
      " [ 1.01749096e-01  1.00660887e-01  4.42850191e-02]\n",
      " [-1.95376426e-01 -1.90689821e-01 -9.43299890e-02]\n",
      " [-1.62453315e-01 -1.68163223e-01 -1.07987032e-01]\n",
      " [ 3.42742006e-02  2.93462764e-02  4.60219198e-02]\n",
      " [-4.34463561e-02 -4.00393169e-02 -3.78403835e-02]\n",
      " [-1.75635926e-02 -2.14792632e-02  4.82788219e-03]\n",
      " [ 4.46976509e-02  4.90727103e-02  2.24172629e-02]\n",
      " [-6.65734681e-03 -7.63815731e-03 -1.84888409e-02]\n",
      " [ 3.79945158e-02  3.59563634e-02  1.75538437e-02]\n",
      " [ 7.39732115e-04 -8.43497458e-03  1.16010710e-03]\n",
      " [ 4.13501926e-03  1.52362504e-03 -1.29179739e-02]] \n",
      " (67, 3)\n"
     ]
    }
   ],
   "source": [
    "from CBIG_model_pytorch import covariance_rowwise\n",
    "\n",
    "cov = covariance_rowwise(y_train_pred, y_train_haufe)\n",
    "print(cov, '\\n', cov.shape)"
   ]
  }
 ],
 "metadata": {
  "kernelspec": {
   "display_name": "brain-jepa",
   "language": "python",
   "name": "python3"
  },
  "language_info": {
   "codemirror_mode": {
    "name": "ipython",
    "version": 3
   },
   "file_extension": ".py",
   "mimetype": "text/x-python",
   "name": "python",
   "nbconvert_exporter": "python",
   "pygments_lexer": "ipython3",
   "version": "3.8.20"
  }
 },
 "nbformat": 4,
 "nbformat_minor": 2
}
