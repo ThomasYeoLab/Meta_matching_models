{
 "cells": [
  {
   "cell_type": "markdown",
   "metadata": {},
   "source": [
    "## Meta matching v1.0\n",
    "This jupyter notebook demonstrates you how to load and use meta-matching algorthm. In this demonstration, we performed Meta-matching (DNN) stacking with 100 example subjects.\n",
    "\n",
    "Package needed (and version this jupyter notebook tested):\n",
    "* Numpy (1.24.4)\n",
    "* Scipy (1.10.1)\n",
    "* PyTorch (2.0.0)\n",
    "* Scikit-learn (1.3.2)"
   ]
  },
  {
   "cell_type": "markdown",
   "metadata": {},
   "source": [
    "### Step 0. Setup\n",
    "Please modify the `path_repo` below to your repo position:"
   ]
  },
  {
   "cell_type": "code",
   "execution_count": 1,
   "metadata": {},
   "outputs": [],
   "source": [
    "path_repo = \"../\" #'/home/the/deepGround/code/2002/Meta_matching_models/'"
   ]
  },
  {
   "cell_type": "code",
   "execution_count": 2,
   "metadata": {},
   "outputs": [],
   "source": [
    "# initialization and random seed set\n",
    "\n",
    "import os\n",
    "import sys\n",
    "import random\n",
    "import scipy\n",
    "import torch\n",
    "import sklearn\n",
    "import numpy as np\n",
    "\n",
    "seed = 42\n",
    "random.seed(seed)\n",
    "np.random.seed(seed)\n",
    "torch.manual_seed(seed)\n",
    "torch.cuda.manual_seed(seed)\n",
    "torch.cuda.manual_seed_all(seed)\n",
    "\n",
    "import warnings\n",
    "warnings.filterwarnings(\"ignore\")"
   ]
  },
  {
   "cell_type": "markdown",
   "metadata": {},
   "source": [
    "Please modify the gpu number here if you want to use different gpu. If the gpu you assigned not availiable, it will assign to cpu"
   ]
  },
  {
   "cell_type": "code",
   "execution_count": 3,
   "metadata": {},
   "outputs": [],
   "source": [
    "gpu = 0\n",
    "os.environ[\"CUDA_VISIBLE_DEVICES\"] = str(gpu)\n",
    "device = torch.device(\"cuda\") if torch.cuda.is_available() else \"cpu\""
   ]
  },
  {
   "cell_type": "markdown",
   "metadata": {},
   "source": [
    "### Step 1. load data\n",
    "Load the example data that we provided, it contains \n",
    "* Example input functional connectivity (FC) `x` with size of (100, 87571)\n",
    "    * 100 is number of subjects\n",
    "    * 87571 is flatten vector of 419 by 419 FC (419*418/2=87571)\n",
    "* Example output phenotypes `y` with size of (100, 3)\n",
    "    * 3 is number of phenotypes."
   ]
  },
  {
   "cell_type": "code",
   "execution_count": 4,
   "metadata": {},
   "outputs": [
    {
     "name": "stdout",
     "output_type": "stream",
     "text": [
      "['x', 'y']\n",
      "(100, 87571) (100, 3)\n"
     ]
    }
   ],
   "source": [
    "path_v1 = os.path.join(path_repo, 'v1.0')\n",
    "path_data = os.path.join(path_repo, 'data')\n",
    "npz = os.path.join(path_data, 'meta_matching_example_data.npz')\n",
    "npz = np.load(npz)\n",
    "print(npz.files)\n",
    "x_input = npz['x']\n",
    "y_input = npz['y']\n",
    "print(x_input.shape, y_input.shape)"
   ]
  },
  {
   "cell_type": "markdown",
   "metadata": {},
   "source": [
    "### Step 2. Split data\n",
    "Here, we also split 100 subjects to 80/20, where 80 for training, and 20 for test."
   ]
  },
  {
   "cell_type": "code",
   "execution_count": 5,
   "metadata": {},
   "outputs": [
    {
     "name": "stdout",
     "output_type": "stream",
     "text": [
      "(80, 87571) (20, 87571) (80, 3) (20, 3)\n"
     ]
    }
   ],
   "source": [
    "from sklearn.model_selection import train_test_split\n",
    "x_train, x_test, y_train, y_test = train_test_split(x_input, y_input, test_size=0.2, random_state=42)\n",
    "print(x_train.shape, x_test.shape, y_train.shape, y_test.shape)"
   ]
  },
  {
   "cell_type": "markdown",
   "metadata": {},
   "source": [
    "After data split, we z-normalize the label (y) of the training and testing set, using mean and std of the training set."
   ]
  },
  {
   "cell_type": "code",
   "execution_count": 6,
   "metadata": {},
   "outputs": [],
   "source": [
    "def z_norm(y_train, y_test):\n",
    "    # subtract mean of y of the training set\n",
    "    t_mu = np.nanmean(y_train, axis=0, keepdims=True)\n",
    "    y_train = y_train - t_mu\n",
    "    y_test = y_test - t_mu\n",
    "\n",
    "    # divide std of y of the training set\n",
    "    t_sigma = np.nanstd(y_train, axis=0)\n",
    "    if y_train.ndim == 2:\n",
    "        t_sigma_d = t_sigma[np.newaxis, :]\n",
    "    else:\n",
    "        t_sigma_d = t_sigma\n",
    "        if t_sigma == 0:\n",
    "            return y_train, y_test\n",
    "    y_train = y_train / t_sigma_d\n",
    "    y_test = y_test / t_sigma_d\n",
    "    return y_train, y_test\n",
    "\n",
    "y_train, y_test = z_norm(y_train, y_test)"
   ]
  },
  {
   "cell_type": "markdown",
   "metadata": {},
   "source": [
    "### Step 3. Prepare data for PyTorch model\n",
    "Then we prepare data for DNN model, we will input both the `x_train` and `x_test` into the model to get the predicted phenotypes. \n",
    "\n",
    "For meta-matching (DNN) stacking, we do not need real phenotype for the DNN model, I created all zeros `y_dummy` just for function requirement. In some other cases, like meta-matching (DNN) finetuning, you need to use real phenotype data here."
   ]
  },
  {
   "cell_type": "code",
   "execution_count": 7,
   "metadata": {},
   "outputs": [],
   "source": [
    "from torch.utils.data import DataLoader\n",
    "sys.path.append(os.path.join(path_repo, \"utils\"))\n",
    "from CBIG_model_pytorch import multi_task_dataset\n",
    "\n",
    "batch_size = 16\n",
    "y_dummy = np.zeros(y_train.shape)\n",
    "dset_train = multi_task_dataset(x_train, y_dummy, True)\n",
    "trainLoader = DataLoader(dset_train,\n",
    "                         batch_size=batch_size,\n",
    "                         shuffle=False,\n",
    "                         num_workers=1)\n",
    "\n",
    "y_dummy = np.zeros(y_test.shape)\n",
    "dset_test = multi_task_dataset(x_test, y_dummy, True)\n",
    "testLoader = DataLoader(dset_test,\n",
    "                        batch_size=batch_size,\n",
    "                        shuffle=False,\n",
    "                        num_workers=1)"
   ]
  },
  {
   "cell_type": "markdown",
   "metadata": {},
   "source": [
    "### Step 4. load model\n",
    "Here we load the meta-matching model saved, it is a DNN that takes FC as input and output 67 phenotypes prediction trained on 67 UK Biobank phenotypes"
   ]
  },
  {
   "cell_type": "code",
   "execution_count": 8,
   "metadata": {},
   "outputs": [
    {
     "name": "stdout",
     "output_type": "stream",
     "text": [
      "dnn_4l(\n",
      "  (fc1): Sequential(\n",
      "    (0): Dropout(p=0.28836, inplace=False)\n",
      "    (1): Linear(in_features=87571, out_features=118, bias=True)\n",
      "    (2): ReLU()\n",
      "    (3): BatchNorm1d(118, eps=1e-05, momentum=0.1, affine=True, track_running_stats=True)\n",
      "  )\n",
      "  (fc2): Sequential(\n",
      "    (0): Dropout(p=0.28836, inplace=False)\n",
      "    (1): Linear(in_features=118, out_features=445, bias=True)\n",
      "    (2): ReLU()\n",
      "    (3): BatchNorm1d(445, eps=1e-05, momentum=0.1, affine=True, track_running_stats=True)\n",
      "  )\n",
      "  (fc3): Sequential(\n",
      "    (0): Dropout(p=0.28836, inplace=False)\n",
      "    (1): Linear(in_features=445, out_features=353, bias=True)\n",
      "    (2): ReLU()\n",
      "    (3): BatchNorm1d(353, eps=1e-05, momentum=0.1, affine=True, track_running_stats=True)\n",
      "  )\n",
      "  (fc4): Sequential(\n",
      "    (0): Dropout(p=0.28836, inplace=False)\n",
      "    (1): Linear(in_features=353, out_features=67, bias=True)\n",
      "  )\n",
      ")\n"
     ]
    }
   ],
   "source": [
    "path_model_weight = os.path.join(path_v1, 'meta_matching_v1.0_model.pkl_torch')  \n",
    "net = torch.load(path_model_weight, map_location=device)\n",
    "net.train(False)\n",
    "print(net)"
   ]
  },
  {
   "cell_type": "markdown",
   "metadata": {},
   "source": [
    "### Step 5. DNN model predict\n",
    "Here we apply the DNN trained on 67 UK Biobank phenotypes to predict the 67 phenotypes on `x_train` and `x_test`. We will get the predicted 67 phenotypes on both 80 training subjects and 20 test subjects."
   ]
  },
  {
   "cell_type": "code",
   "execution_count": 9,
   "metadata": {},
   "outputs": [
    {
     "name": "stdout",
     "output_type": "stream",
     "text": [
      "(80, 67) \n",
      " [[-0.17227212  0.00659018 -0.30208847 ... -0.15928994 -0.38077325\n",
      "   0.03831919]\n",
      " [ 0.0840143  -0.2012696   0.62567234 ...  0.14059748 -0.0080429\n",
      "   0.4631604 ]\n",
      " [ 0.13499442  0.14025491 -0.51653886 ...  0.01679245 -0.21242383\n",
      "  -0.15089568]\n",
      " ...\n",
      " [ 0.14017352 -0.13507903  0.06178959 ...  0.14889181  0.00375715\n",
      "   0.00102939]\n",
      " [-0.00132074 -0.20964417  0.35207599 ...  0.17323518 -0.1256841\n",
      "  -0.07328446]\n",
      " [-0.14659923  0.09759457 -0.24224234 ... -0.07367411 -0.56735659\n",
      "  -0.06110727]]\n",
      "(20, 67) \n",
      " [[-0.07091516 -0.20356585  0.30995744 ...  0.17636669 -0.36347184\n",
      "  -0.13356218]\n",
      " [-0.01349915 -0.13479879  0.26539761 ...  0.22685154  0.03282836\n",
      "  -0.25569448]\n",
      " [ 0.03873897 -0.2232421   0.34538248 ...  0.2163894  -0.10278906\n",
      "  -0.06968378]\n",
      " ...\n",
      " [ 0.01483439 -0.27222607  0.38793972 ...  0.13031584 -0.24093717\n",
      "   0.35386068]\n",
      " [-0.11500867 -0.14910071  0.18525358 ...  0.11365267 -0.32046539\n",
      "  -0.13270387]\n",
      " [ 0.13167746  0.13831377 -0.34880367 ...  0.00669172  0.02045992\n",
      "  -0.12482678]]\n"
     ]
    }
   ],
   "source": [
    "y_train_pred = np.zeros((0, 67))\n",
    "for (x, _) in trainLoader:\n",
    "    x= x.to(device)\n",
    "    outputs = net(x)\n",
    "    y_train_pred = np.concatenate((y_train_pred, outputs.data.cpu().numpy()), axis=0)\n",
    "print(y_train_pred.shape, '\\n', y_train_pred)\n",
    "\n",
    "y_test_pred = np.zeros((0, 67))\n",
    "for (x, _) in testLoader:\n",
    "    x= x.to(device)\n",
    "    outputs = net(x)\n",
    "    y_test_pred = np.concatenate((y_test_pred, outputs.data.cpu().numpy()), axis=0)\n",
    "print(y_test_pred.shape, '\\n', y_test_pred)"
   ]
  },
  {
   "cell_type": "markdown",
   "metadata": {},
   "source": [
    "### Step 6. Stacking\n",
    "Perform stacking with `y_train_pred`, `y_test_pred`, `y_train`, where we use the prediction of 80 subjects `y_train_pred` (input) and real data `y_train` (output) to train the stacking model (you can either use all 67 source phenotypes for stacking, or select top K source phenotypes relevant to the target phenotype, like we mentioned in our paper; it turns out that these 2 ways achieves similar performances), then we applied the model to `y_test_pred` to get final prediction of 3 phenotypes on 20 subjects.\n",
    "\n",
    "#### Hyperparameter Tuning \n",
    "In `stacking()` function, we set the range of `alpha` as `[0.00001, 0.0001, 0.001, 0.004, 0.007, 0.01, 0.04, 0.07, 0.1, 0.4, 0.7, 1, 1.5, 2, 2.5, 3, 3.5, 4, 5, 10, 15, 20]`. You are weclomed to modify the range of `alpha` to get better performance on your own data."
   ]
  },
  {
   "cell_type": "code",
   "execution_count": 10,
   "metadata": {
    "scrolled": false
   },
   "outputs": [
    {
     "name": "stdout",
     "output_type": "stream",
     "text": [
      "(20, 3) \n",
      " [[ 0.30858318  0.31614136  0.25616881]\n",
      " [ 0.33097868  0.27920972  0.22188792]\n",
      " [ 0.3022932   0.27643389 -0.21590371]\n",
      " [-0.30724698 -0.25114863 -0.09360205]\n",
      " [ 0.29601656  0.23809381 -0.08588831]\n",
      " [ 0.03028216  0.06092177 -0.42269768]\n",
      " [ 0.05079768  0.06213083 -0.00315667]\n",
      " [-0.20391299 -0.12172257 -0.28335082]\n",
      " [-0.23192853 -0.24666243 -0.11799798]\n",
      " [ 0.1687797   0.12687031 -0.21025245]\n",
      " [-0.25755716 -0.26978648 -0.12037667]\n",
      " [ 0.11587517  0.13568884 -0.404235  ]\n",
      " [ 0.33310192  0.29047687  0.4093741 ]\n",
      " [ 0.28479089  0.24948804  0.43535864]\n",
      " [ 0.19712837  0.17144201  0.18689087]\n",
      " [ 0.06142156  0.08956782 -0.34495887]\n",
      " [-0.2453573  -0.19865241  0.21710906]\n",
      " [ 0.03216124  0.04582251 -1.02856156]\n",
      " [ 0.33752271  0.31074357  0.68634819]\n",
      " [-0.14581154 -0.17190664  0.18438439]]\n"
     ]
    }
   ],
   "source": [
    "from CBIG_model_pytorch import stacking\n",
    "y_test_final=np.zeros((y_test_pred.shape[0], y_train.shape[1]))\n",
    "for i in range(y_train.shape[1]):\n",
    "    # For each test phenotype, perform stacking by developing a KRR model\n",
    "    y_test_temp, _ = stacking(y_train_pred, y_test_pred, y_train[:,i].view(), [0.00001, 0.0001, 0.001, 0.004, 0.007, 0.01, 0.04, 0.07, 0.1, 0.4, 0.7, 1, 1.5, 2, 2.5, 3, 3.5, 4, 5, 10, 15, 20])\n",
    "    y_test_final[:,i] = y_test_temp.flatten()\n",
    "print(y_test_final.shape, '\\n', y_test_final)"
   ]
  },
  {
   "cell_type": "markdown",
   "metadata": {},
   "source": [
    "### Step 7. Evaluation\n",
    "Evaluate the prediction performance. Note that we didn't reverse the z-normalization which previously applied on `y_train` and `y_test`. This is because the metric (Pearson correlation) would not be affected by z-normalization. If you are predicting the phenotypes for practical use, you are recommended to reverse the z-normalization "
   ]
  },
  {
   "cell_type": "code",
   "execution_count": 11,
   "metadata": {},
   "outputs": [
    {
     "name": "stdout",
     "output_type": "stream",
     "text": [
      "[0.40592904 0.40829964 0.21940492]\n"
     ]
    }
   ],
   "source": [
    "from scipy.stats.stats import pearsonr\n",
    "corr = np.zeros((y_train.shape[1]))\n",
    "for i in range(y_train.shape[1]):\n",
    "    corr[i] = pearsonr(y_test_final[:, i], y_test[:, i])[0]\n",
    "print(corr)"
   ]
  },
  {
   "cell_type": "markdown",
   "metadata": {},
   "source": [
    "### Step 8. Haufe transform predictive network features (PNFs) computation\n",
    "Here we compute the PNF for stacking we just performed. It computes the covariance between 3 phenotype prediciton and each element of FC on the 80 training subjects. The final PNF is in shape of (87571, 3), where 87571 is number of 419 by 419 FC elements, and 3 is number of phenotypes."
   ]
  },
  {
   "cell_type": "code",
   "execution_count": 12,
   "metadata": {},
   "outputs": [
    {
     "name": "stdout",
     "output_type": "stream",
     "text": [
      "(80, 3)\n",
      "[[ 0.00732235  0.00713506  0.00118967]\n",
      " [ 0.01078571  0.01010187  0.00199967]\n",
      " [ 0.00441558  0.00467486 -0.00158594]\n",
      " ...\n",
      " [ 0.01436255  0.01190753  0.00724397]\n",
      " [ 0.01585564  0.01320002  0.00776838]\n",
      " [ 0.0149424   0.01306513  0.00628666]] \n",
      " (87571, 3)\n"
     ]
    }
   ],
   "source": [
    "from CBIG_model_pytorch import covariance_rowwise\n",
    "\n",
    "y_train_haufe, _ = stacking(y_train_pred, y_train_pred, y_train)\n",
    "print(y_train_haufe.shape)\n",
    "cov = covariance_rowwise(x_train, y_train_haufe)\n",
    "print(cov, '\\n', cov.shape)"
   ]
  },
  {
   "cell_type": "markdown",
   "metadata": {},
   "source": [
    "### Step 9. Haufe transform predictive network features (PNFs) computation for training phenotypes\n",
    "Here we compute the PNF for stacking we just performed. It computes the covariance between 3 phenotype prediciton and each training phenotypes on the 80 training subjects. The final PNF is in shape of (67, 3), where 67 is number of training phenotypes, and 3 is number of phenotypes."
   ]
  },
  {
   "cell_type": "code",
   "execution_count": 13,
   "metadata": {},
   "outputs": [
    {
     "name": "stdout",
     "output_type": "stream",
     "text": [
      "[[ 1.62112542e-03 -7.29563194e-04  4.11851982e-04]\n",
      " [-2.88318801e-02 -2.60968040e-02 -5.33670361e-03]\n",
      " [ 8.37645040e-02  7.14207328e-02  3.11697183e-02]\n",
      " [ 4.08589351e-03  4.56096290e-03  6.94921181e-03]\n",
      " [ 5.16990796e-03  3.27474343e-03 -9.38602973e-03]\n",
      " [-2.38979929e-02 -2.18224532e-02 -2.05118513e-02]\n",
      " [ 8.63389902e-03  7.05434234e-03  1.16107905e-02]\n",
      " [ 9.56680719e-03  8.05383664e-03  1.34339202e-02]\n",
      " [ 6.66705145e-02  5.45499531e-02  2.43841043e-02]\n",
      " [ 3.18675326e-03  3.99848474e-04 -5.76661315e-03]\n",
      " [ 3.63114426e-02  2.91520766e-02  1.61062252e-02]\n",
      " [-3.38178361e-02 -3.20809520e-02 -1.43090071e-02]\n",
      " [-1.70428594e-02 -1.27157029e-02 -1.28376742e-02]\n",
      " [ 5.94135870e-02  4.81916649e-02  5.39425676e-02]\n",
      " [ 2.02485478e-02  1.51641613e-02  1.97555790e-02]\n",
      " [ 2.07869438e-01  1.81910344e-01  8.34806334e-02]\n",
      " [-5.58790195e-02 -4.52913699e-02 -3.14647489e-02]\n",
      " [-3.17880138e-02 -1.88238709e-02 -2.19619521e-02]\n",
      " [-5.72028636e-02 -4.55577413e-02 -4.35474789e-02]\n",
      " [-3.18404322e-03 -3.18153740e-03 -1.30639798e-04]\n",
      " [ 4.82862623e-02  3.52165280e-02  4.42675348e-02]\n",
      " [ 1.67355199e-02  1.30430943e-02  9.75494285e-03]\n",
      " [-4.62480651e-02 -4.01077080e-02 -1.89968892e-02]\n",
      " [ 1.89824092e-01  1.66116335e-01  7.61153205e-02]\n",
      " [-1.24720008e-01 -8.88291207e-02 -1.22571005e-01]\n",
      " [ 4.84588292e-02  4.86625316e-02  1.20269805e-02]\n",
      " [-7.56683674e-03 -6.07281222e-03 -3.27756545e-03]\n",
      " [-1.37625115e-01 -1.19336701e-01 -4.72756236e-02]\n",
      " [ 3.66541429e-02  3.53648434e-02  1.43787177e-02]\n",
      " [ 7.72310992e-02  6.68981541e-02  4.13604739e-02]\n",
      " [ 3.42055149e-02  3.05967183e-02  2.17323530e-02]\n",
      " [ 2.38759056e-02  2.16216220e-02  2.69102090e-02]\n",
      " [-4.37521963e-02 -3.47996012e-02 -2.79764243e-02]\n",
      " [ 5.40806935e-03  7.75732759e-03  1.19860459e-03]\n",
      " [ 4.08705470e-02  3.06888630e-02  3.30703417e-02]\n",
      " [-3.38847328e-02 -2.35026501e-02 -3.51054399e-02]\n",
      " [-6.65787813e-02 -5.20144232e-02 -5.29511551e-02]\n",
      " [ 4.67928956e-02  3.40787339e-02  4.22063386e-02]\n",
      " [-5.32989731e-02 -4.13406214e-02 -3.61818176e-02]\n",
      " [-5.22756365e-03 -5.33447195e-04  4.68236530e-03]\n",
      " [ 4.45056796e-02  3.55379193e-02  3.42292100e-02]\n",
      " [ 1.20802090e-02  4.84312160e-03  1.73024066e-02]\n",
      " [-5.87060949e-02 -4.73396935e-02 -5.21419162e-02]\n",
      " [ 3.79642598e-02  3.23330415e-02  2.37702881e-02]\n",
      " [-4.27684108e-02 -3.37834509e-02 -3.83795451e-02]\n",
      " [-1.21244662e-02 -1.13069090e-02 -1.48800369e-02]\n",
      " [ 1.18397978e-02  7.38507910e-03  6.28670857e-03]\n",
      " [-1.72640931e-01 -1.46124539e-01 -8.77361432e-02]\n",
      " [-1.72049803e-01 -1.48538559e-01 -7.64198191e-02]\n",
      " [ 1.76382902e-01  1.53383590e-01  8.06049206e-02]\n",
      " [ 8.74432263e-03  6.01595289e-03  5.83808164e-04]\n",
      " [ 4.09491593e-02  3.28238178e-02  1.14359363e-02]\n",
      " [ 1.77372177e-02  2.03620482e-02 -8.17264397e-03]\n",
      " [ 5.88775090e-03  1.05223869e-02 -6.45661611e-03]\n",
      " [ 1.81525340e-03  1.00780404e-03 -5.42304596e-03]\n",
      " [ 5.62311222e-02  4.82155419e-02  1.74695118e-02]\n",
      " [ 7.44033624e-02  6.42832444e-02  2.46392628e-02]\n",
      " [-1.53285425e-01 -1.31017626e-01 -5.92446710e-02]\n",
      " [-1.36360635e-01 -1.23134130e-01 -6.94728025e-02]\n",
      " [ 3.88827006e-02  2.97004194e-02  3.08266991e-02]\n",
      " [-4.07718756e-02 -3.26248545e-02 -2.39475155e-02]\n",
      " [-4.80557179e-03 -6.91949079e-03  2.11121429e-03]\n",
      " [ 3.32023674e-02  3.26817715e-02  1.49041589e-02]\n",
      " [-1.14613842e-02 -1.16888423e-02 -1.33473696e-02]\n",
      " [ 3.00075537e-02  2.47708917e-02  1.21665828e-02]\n",
      " [ 2.12986767e-02  1.25928487e-02  6.48596256e-03]\n",
      " [-9.69290900e-03 -9.40290679e-03 -1.46467889e-02]] \n",
      " (67, 3)\n"
     ]
    }
   ],
   "source": [
    "from CBIG_model_pytorch import covariance_rowwise\n",
    "\n",
    "cov = covariance_rowwise(y_train_pred, y_train_haufe)\n",
    "print(cov, '\\n', cov.shape)"
   ]
  }
 ],
 "metadata": {
  "kernelspec": {
   "display_name": "brain-jepa",
   "language": "python",
   "name": "python3"
  },
  "language_info": {
   "codemirror_mode": {
    "name": "ipython",
    "version": 3
   },
   "file_extension": ".py",
   "mimetype": "text/x-python",
   "name": "python",
   "nbconvert_exporter": "python",
   "pygments_lexer": "ipython3",
   "version": "3.8.20"
  }
 },
 "nbformat": 4,
 "nbformat_minor": 2
}
