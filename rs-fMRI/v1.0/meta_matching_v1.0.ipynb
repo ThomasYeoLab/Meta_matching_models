{
 "cells": [
  {
   "cell_type": "markdown",
   "metadata": {},
   "source": [
    "## Meta matching v1.0\n",
    "This jupyter notebook demonstrates you how to load and use meta-matching algorthm. In this demonstration, we performed Meta-matching (DNN) stacking with 100 example subjects.\n",
    "\n",
    "Package needed (and version this jupyter notebook tested):\n",
    "* Numpy (1.16.4)\n",
    "* Scipy (1.0.0)\n",
    "* PyTorch (1.3.1)\n",
    "* Scikit-learn (0.21.3)"
   ]
  },
  {
   "cell_type": "markdown",
   "metadata": {},
   "source": [
    "### Step 0. Setup\n",
    "Please modify the `path_repo` below to your repo position:"
   ]
  },
  {
   "cell_type": "code",
   "execution_count": 1,
   "metadata": {},
   "outputs": [],
   "source": [
    "path_repo = \"../\" #'/home/the/deepGround/code/2002/Meta_matching_models/'"
   ]
  },
  {
   "cell_type": "code",
   "execution_count": 2,
   "metadata": {},
   "outputs": [],
   "source": [
    "# initialization and random seed set\n",
    "\n",
    "import os\n",
    "import sys\n",
    "import random\n",
    "import scipy\n",
    "import torch\n",
    "import sklearn\n",
    "import numpy as np\n",
    "\n",
    "seed = 42\n",
    "random.seed(seed)\n",
    "np.random.seed(seed)\n",
    "torch.manual_seed(seed)\n",
    "torch.cuda.manual_seed(seed)\n",
    "torch.cuda.manual_seed_all(seed)\n",
    "\n",
    "import warnings\n",
    "warnings.filterwarnings(\"ignore\")"
   ]
  },
  {
   "cell_type": "markdown",
   "metadata": {},
   "source": [
    "Please modify the gpu number here if you want to use different gpu. If the gpu you assigned not availiable, it will assign to cpu"
   ]
  },
  {
   "cell_type": "code",
   "execution_count": 3,
   "metadata": {},
   "outputs": [],
   "source": [
    "gpu = 0\n",
    "os.environ[\"CUDA_VISIBLE_DEVICES\"] = str(gpu)\n",
    "device = torch.device(\"cuda\") if torch.cuda.is_available() else \"cpu\""
   ]
  },
  {
   "cell_type": "markdown",
   "metadata": {},
   "source": [
    "### Step 1. load data\n",
    "Load the example data that we provided, it contains \n",
    "* Example input functional connectivity (FC) `x` with size of (100, 87571)\n",
    "    * 100 is number of subjects\n",
    "    * 87571 is flatten vector of 419 by 419 FC (419*418/2=87571)\n",
    "* Example output phenotypes `y` with size of (100, 3)\n",
    "    * 3 is number of phenotypes."
   ]
  },
  {
   "cell_type": "code",
   "execution_count": 4,
   "metadata": {},
   "outputs": [
    {
     "name": "stdout",
     "output_type": "stream",
     "text": [
      "['x', 'y']\n",
      "(100, 87571) (100, 3)\n"
     ]
    }
   ],
   "source": [
    "path_v1 = os.path.join(path_repo, 'v1.0')\n",
    "path_data = os.path.join(path_repo, 'data')\n",
    "npz = os.path.join(path_data, 'meta_matching_example_data.npz')\n",
    "npz = np.load(npz)\n",
    "print(npz.files)\n",
    "x_input = npz['x']\n",
    "y_input = npz['y']\n",
    "print(x_input.shape, y_input.shape)"
   ]
  },
  {
   "cell_type": "markdown",
   "metadata": {},
   "source": [
    "### Step 2. Split data\n",
    "Here, we also split 100 subjects to 80/20, where 80 for training, and 20 for test."
   ]
  },
  {
   "cell_type": "code",
   "execution_count": 5,
   "metadata": {},
   "outputs": [
    {
     "name": "stdout",
     "output_type": "stream",
     "text": [
      "(80, 87571) (20, 87571) (80, 3) (20, 3)\n"
     ]
    }
   ],
   "source": [
    "from sklearn.model_selection import train_test_split\n",
    "x_train, x_test, y_train, y_test = train_test_split(x_input, y_input, test_size=0.2, random_state=42)\n",
    "print(x_train.shape, x_test.shape, y_train.shape, y_test.shape)"
   ]
  },
  {
   "cell_type": "markdown",
   "metadata": {},
   "source": [
    "### Step 3. Prepare data for PyTorch model\n",
    "Then we prepare data for DNN model, we will input both the `x_train` and `x_test` into the model to get the predicted phenotypes. \n",
    "\n",
    "For meta-matching (DNN) stacking, we do not need real phenotype for the DNN model, I created all zeros `y_dummy` just for function requirement. In some other cases, like meta-matching (DNN) finetuning, you need to use real phenotype data here."
   ]
  },
  {
   "cell_type": "code",
   "execution_count": 6,
   "metadata": {},
   "outputs": [],
   "source": [
    "from torch.utils.data import DataLoader\n",
    "sys.path.append(os.path.join(path_repo, \"utils\"))\n",
    "from CBIG_model_pytorch import multi_task_dataset\n",
    "\n",
    "batch_size = 16\n",
    "y_dummy = np.zeros(y_train.shape)\n",
    "dset_train = multi_task_dataset(x_train, y_dummy, True)\n",
    "trainLoader = DataLoader(dset_train,\n",
    "                         batch_size=batch_size,\n",
    "                         shuffle=False,\n",
    "                         num_workers=1)\n",
    "\n",
    "y_dummy = np.zeros(y_test.shape)\n",
    "dset_test = multi_task_dataset(x_test, y_dummy, True)\n",
    "testLoader = DataLoader(dset_test,\n",
    "                        batch_size=batch_size,\n",
    "                        shuffle=False,\n",
    "                        num_workers=1)"
   ]
  },
  {
   "cell_type": "markdown",
   "metadata": {},
   "source": [
    "### Step 4. load model\n",
    "Here we load the meta-matching model saved, it is a DNN that takes FC as input and output 67 phenotypes prediction trained on 67 UK Biobank phenotypes"
   ]
  },
  {
   "cell_type": "code",
   "execution_count": 7,
   "metadata": {},
   "outputs": [
    {
     "name": "stdout",
     "output_type": "stream",
     "text": [
      "dnn_4l(\n",
      "  (fc1): Sequential(\n",
      "    (0): Dropout(p=0.28836)\n",
      "    (1): Linear(in_features=87571, out_features=118, bias=True)\n",
      "    (2): ReLU()\n",
      "    (3): BatchNorm1d(118, eps=1e-05, momentum=0.1, affine=True, track_running_stats=True)\n",
      "  )\n",
      "  (fc2): Sequential(\n",
      "    (0): Dropout(p=0.28836)\n",
      "    (1): Linear(in_features=118, out_features=445, bias=True)\n",
      "    (2): ReLU()\n",
      "    (3): BatchNorm1d(445, eps=1e-05, momentum=0.1, affine=True, track_running_stats=True)\n",
      "  )\n",
      "  (fc3): Sequential(\n",
      "    (0): Dropout(p=0.28836)\n",
      "    (1): Linear(in_features=445, out_features=353, bias=True)\n",
      "    (2): ReLU()\n",
      "    (3): BatchNorm1d(353, eps=1e-05, momentum=0.1, affine=True, track_running_stats=True)\n",
      "  )\n",
      "  (fc4): Sequential(\n",
      "    (0): Dropout(p=0.28836)\n",
      "    (1): Linear(in_features=353, out_features=67, bias=True)\n",
      "  )\n",
      ")\n"
     ]
    }
   ],
   "source": [
    "path_model_weight = os.path.join(path_v1, 'meta_matching_v1.0_model.pkl_torch')  \n",
    "net = torch.load(path_model_weight, map_location=device)\n",
    "net.train(False)\n",
    "print(net)"
   ]
  },
  {
   "cell_type": "markdown",
   "metadata": {},
   "source": [
    "### Step 5. DNN model predict\n",
    "Here we apply the DNN trained on 67 UK Biobank phenotypes to predict the 67 phenotypes on `x_train` and `x_test`. We will get the predicted 67 phenotypes on both 80 training subjects and 20 test subjects."
   ]
  },
  {
   "cell_type": "code",
   "execution_count": 8,
   "metadata": {},
   "outputs": [
    {
     "name": "stdout",
     "output_type": "stream",
     "text": [
      "(80, 67) \n",
      " [[-0.17227206  0.00659013 -0.30208844 ... -0.15928993 -0.38077328\n",
      "   0.03831927]\n",
      " [ 0.08401433 -0.20126955  0.62567234 ...  0.14059746 -0.00804296\n",
      "   0.46316051]\n",
      " [ 0.13499442  0.1402549  -0.51653892 ...  0.01679243 -0.21242383\n",
      "  -0.15089571]\n",
      " ...\n",
      " [ 0.14017355 -0.13507904  0.06178962 ...  0.14889181  0.00375715\n",
      "   0.00102939]\n",
      " [-0.00132075 -0.20964415  0.35207596 ...  0.17323519 -0.12568414\n",
      "  -0.07328446]\n",
      " [-0.14659929  0.09759449 -0.2422424  ... -0.07367411 -0.56735659\n",
      "  -0.06110723]]\n",
      "(20, 67) \n",
      " [[-0.0709152  -0.20356582  0.30995744 ...  0.17636669 -0.36347187\n",
      "  -0.13356218]\n",
      " [-0.01349916 -0.13479878  0.26539761 ...  0.22685154  0.03282836\n",
      "  -0.25569448]\n",
      " [ 0.03873895 -0.22324213  0.34538239 ...  0.21638942 -0.10278907\n",
      "  -0.06968378]\n",
      " ...\n",
      " [ 0.01483438 -0.2722261   0.38793978 ...  0.13031584 -0.24093716\n",
      "   0.35386074]\n",
      " [-0.11500868 -0.14910071  0.18525353 ...  0.11365268 -0.32046545\n",
      "  -0.13270389]\n",
      " [ 0.13167745  0.13831379 -0.34880364 ...  0.00669172  0.02045992\n",
      "  -0.12482679]]\n"
     ]
    }
   ],
   "source": [
    "y_train_pred = np.zeros((0, 67))\n",
    "for (x, _) in trainLoader:\n",
    "    x= x.to(device)\n",
    "    outputs = net(x)\n",
    "    y_train_pred = np.concatenate((y_train_pred, outputs.data.cpu().numpy()), axis=0)\n",
    "print(y_train_pred.shape, '\\n', y_train_pred)\n",
    "\n",
    "y_test_pred = np.zeros((0, 67))\n",
    "for (x, _) in testLoader:\n",
    "    x= x.to(device)\n",
    "    outputs = net(x)\n",
    "    y_test_pred = np.concatenate((y_test_pred, outputs.data.cpu().numpy()), axis=0)\n",
    "print(y_test_pred.shape, '\\n', y_test_pred)"
   ]
  },
  {
   "cell_type": "markdown",
   "metadata": {},
   "source": [
    "### Step 6. Stacking\n",
    "Perform stacking with `y_train_pred`, `y_test_pred`, `y_train`, where we use the prediction of 80 subjects `y_train_pred` (input) and real data `y_train` (output) to train the stacking model (you can either use all 67 source phenotypes for stacking, or select top K source phenotypes relevant to the target phenotype, like we mentioned in our paper; it turns out that these 2 ways achieves similar performances), then we applied the model to `y_test_pred` to get final prediction of 3 phenotypes on 20 subjects.\n",
    "\n",
    "#### Hyperparameter Tuning \n",
    "In `stacking()` function, we set the range of `alpha` as `[0.00001, 0.0001, 0.001, 0.004, 0.007, 0.01, 0.04, 0.07, 0.1, 0.4, 0.7, 1, 1.5, 2, 2.5, 3, 3.5, 4, 5, 10, 15, 20]`. You are weclomed to modify the range of `alpha` to get better performance on your own data."
   ]
  },
  {
   "cell_type": "code",
   "execution_count": 9,
   "metadata": {
    "scrolled": false
   },
   "outputs": [
    {
     "name": "stdout",
     "output_type": "stream",
     "text": [
      "(20, 3) \n",
      " [[57.24721265 25.93593734 27.4226106 ]\n",
      " [57.17467899 22.06165651 27.09655359]\n",
      " [57.36884547 24.58059507 23.47093781]\n",
      " [37.18787426 11.75935299 17.75585082]\n",
      " [49.15730921 18.46283718 20.20718313]\n",
      " [47.47035798 20.04291131 19.9608776 ]\n",
      " [54.40567731 24.73385541 23.27536312]\n",
      " [40.99368241 15.31938305 21.09597124]\n",
      " [39.04512584 13.11091205 24.61155908]\n",
      " [55.31271847 23.59101645 23.6640419 ]\n",
      " [53.26186813 21.25681156 32.77595402]\n",
      " [69.68916503 30.63487344 33.29932061]\n",
      " [57.15708736 22.6005652  28.75085869]\n",
      " [63.07878367 27.04353219 36.24263957]\n",
      " [61.76455787 25.88692146 30.91435613]\n",
      " [45.64961507 18.33914249 26.59452772]\n",
      " [32.08764725 10.42886165 27.66786859]\n",
      " [52.84634842 19.99914532 21.17068412]\n",
      " [56.24633603 23.80775    29.41020396]\n",
      " [30.1881153  11.68766442 18.1356171 ]]\n"
     ]
    }
   ],
   "source": [
    "from CBIG_model_pytorch import stacking\n",
    "y_test_final=np.zeros((y_test_pred.shape[0], y_train.shape[1]))\n",
    "for i in range(y_train.shape[1]):\n",
    "    # For each test phenotype, perform stacking by developing a KRR model\n",
    "    y_test_temp, _ = stacking(y_train_pred, y_test_pred, y_train[:,i].view(), [0.00001, 0.0001, 0.001, 0.004, 0.007, 0.01, 0.04, 0.07, 0.1, 0.4, 0.7, 1, 1.5, 2, 2.5, 3, 3.5, 4, 5, 10, 15, 20])\n",
    "    y_test_final[:,i] = y_test_temp.flatten()\n",
    "print(y_test_final.shape, '\\n', y_test_final)"
   ]
  },
  {
   "cell_type": "markdown",
   "metadata": {},
   "source": [
    "### Step 7. Evaluation\n",
    "Evaluate the prediction performance."
   ]
  },
  {
   "cell_type": "code",
   "execution_count": 10,
   "metadata": {},
   "outputs": [
    {
     "name": "stdout",
     "output_type": "stream",
     "text": [
      "[0.24716778 0.37310409 0.22338988]\n"
     ]
    }
   ],
   "source": [
    "from scipy.stats.stats import pearsonr\n",
    "corr = np.zeros((y_train.shape[1]))\n",
    "for i in range(y_train.shape[1]):\n",
    "    corr[i] = pearsonr(y_test_final[:, i], y_test[:, i])[0]\n",
    "print(corr)"
   ]
  },
  {
   "cell_type": "markdown",
   "metadata": {},
   "source": [
    "### Step 8. Haufe transform predictive network features (PNFs) computation\n",
    "Here we compute the PNF for stacking we just performed. It computes the covariance between 3 phenotype prediciton and each element of FC on the 80 training subjects. The final PNF is in shape of (87571, 3), where 87571 is number of 419 by 419 FC elements, and 3 is number of phenotypes."
   ]
  },
  {
   "cell_type": "code",
   "execution_count": 11,
   "metadata": {},
   "outputs": [
    {
     "name": "stdout",
     "output_type": "stream",
     "text": [
      "(80, 3)\n",
      "[[ 0.18386811  0.11068117  0.01352517]\n",
      " [ 0.1119323   0.07715998 -0.04188844]\n",
      " [ 0.14536112  0.09807391 -0.04420557]\n",
      " ...\n",
      " [ 0.21679985  0.09523134  0.04394229]\n",
      " [ 0.19566549  0.09021557  0.03804702]\n",
      " [ 0.24579299  0.12446289 -0.00408745]] \n",
      " (87571, 3)\n"
     ]
    }
   ],
   "source": [
    "from CBIG_model_pytorch import covariance_rowwise\n",
    "\n",
    "y_train_haufe, _ = stacking(y_train_pred, y_train_pred, y_train)\n",
    "print(y_train_haufe.shape)\n",
    "cov = covariance_rowwise(x_train, y_train_haufe)\n",
    "print(cov, '\\n', cov.shape)"
   ]
  },
  {
   "cell_type": "markdown",
   "metadata": {},
   "source": [
    "### Step 9. Haufe transform predictive network features (PNFs) computation for training phenotypes\n",
    "Here we compute the PNF for stacking we just performed. It computes the covariance between 3 phenotype prediciton and each training phenotypes on the 80 training subjects. The final PNF is in shape of (67, 3), where 67 is number of training phenotypes, and 3 is number of phenotypes."
   ]
  },
  {
   "cell_type": "code",
   "execution_count": 12,
   "metadata": {},
   "outputs": [
    {
     "name": "stdout",
     "output_type": "stream",
     "text": [
      "[[ 1.09301723e-01  3.93908557e-02  1.50070203e-03]\n",
      " [-3.24056429e-01 -1.63686217e-01  1.19563060e-02]\n",
      " [ 8.72238400e-01  3.97970535e-01  2.16038049e-01]\n",
      " [ 1.64926498e-01  8.13263564e-02  6.21016424e-02]\n",
      " [ 5.25558768e-02 -1.65186988e-02 -1.95600160e-01]\n",
      " [-2.92966903e-01 -2.00420830e-01 -2.87878264e-01]\n",
      " [ 9.16181168e-02  4.24523333e-02  1.85445675e-01]\n",
      " [ 1.52624282e-01  8.78352365e-02  2.46047657e-01]\n",
      " [ 7.58827271e-01  3.20920724e-01  1.40667180e-01]\n",
      " [-2.34888579e-02 -6.77215721e-02 -1.80829813e-01]\n",
      " [ 3.62779024e-01  1.59681171e-01  6.86977733e-02]\n",
      " [-4.80388511e-01 -2.90244528e-01 -1.80062811e-01]\n",
      " [-2.35075035e-01 -1.05488600e-01 -1.44898591e-01]\n",
      " [ 7.05744314e-01  3.93537910e-01  7.06486033e-01]\n",
      " [ 3.05856512e-01  1.54111843e-01  2.50461209e-01]\n",
      " [ 2.27410649e+00  1.12351113e+00  6.99330271e-01]\n",
      " [-7.61003883e-01 -4.18166826e-01 -3.64184371e-01]\n",
      " [-3.24148143e-01 -8.51299384e-02 -1.40108139e-01]\n",
      " [-7.59052647e-01 -3.86190192e-01 -5.27179275e-01]\n",
      " [-2.87858458e-02 -6.68951008e-03  1.48701521e-03]\n",
      " [ 6.39445620e-01  3.03591569e-01  5.22974033e-01]\n",
      " [ 1.87171580e-01  8.36357871e-02  6.37113828e-02]\n",
      " [-4.79794548e-01 -2.30702612e-01 -1.51699088e-01]\n",
      " [ 2.07409201e+00  1.02573835e+00  6.30040156e-01]\n",
      " [-1.57056384e+00 -5.96398852e-01 -8.55671596e-01]\n",
      " [ 4.90338901e-01  3.09199257e-01  7.82985988e-02]\n",
      " [-1.43967527e-01 -5.91073616e-02 -1.83970501e-02]\n",
      " [-1.49104655e+00 -7.26766116e-01 -3.81874639e-01]\n",
      " [ 4.42371929e-01  2.43185295e-01  1.24662146e-01]\n",
      " [ 9.36445783e-01  4.55135584e-01  3.52781813e-01]\n",
      " [ 3.73431501e-01  1.88494824e-01  1.74961954e-01]\n",
      " [ 3.56270395e-01  2.14141613e-01  3.48232304e-01]\n",
      " [-4.84561750e-01 -2.27226432e-01 -1.56262114e-01]\n",
      " [ 4.74406925e-03  6.74673274e-02  4.31099369e-02]\n",
      " [ 4.46090793e-01  1.97742514e-01  3.24487953e-01]\n",
      " [-5.10290616e-01 -2.39114088e-01 -4.42468163e-01]\n",
      " [-8.38703196e-01 -4.17114036e-01 -6.09577519e-01]\n",
      " [ 6.10293166e-01  2.84441807e-01  4.97093214e-01]\n",
      " [-6.58821139e-01 -3.05709413e-01 -3.55976083e-01]\n",
      " [ 1.47117404e-01  1.45289624e-01  2.61046729e-01]\n",
      " [ 5.73317179e-01  2.79620677e-01  4.18674587e-01]\n",
      " [ 1.24479595e-01  1.89924862e-02  1.64605696e-01]\n",
      " [-7.82539141e-01 -4.22930011e-01 -6.86745214e-01]\n",
      " [ 4.56572952e-01  2.42784514e-01  2.78409705e-01]\n",
      " [-5.84750931e-01 -2.93577909e-01 -3.37208672e-01]\n",
      " [-2.67319454e-01 -1.49734496e-01 -1.68200823e-01]\n",
      " [ 9.76557071e-02  2.24687561e-02 -1.03141167e-01]\n",
      " [-1.92427893e+00 -9.23870606e-01 -7.76377574e-01]\n",
      " [-1.90068909e+00 -9.40622137e-01 -6.85002841e-01]\n",
      " [ 2.02688797e+00  1.02371332e+00  7.34855218e-01]\n",
      " [ 1.11388309e-01  3.23973775e-02 -3.30605021e-02]\n",
      " [ 3.42269764e-01  9.71628419e-02  2.06574877e-02]\n",
      " [ 1.21264154e-01  8.05700898e-02 -1.50699517e-01]\n",
      " [ 1.17233384e-01  1.29089112e-01 -2.22789110e-02]\n",
      " [ 7.70417393e-03  3.41778618e-03 -2.08097411e-02]\n",
      " [ 6.03528444e-01  3.00561587e-01  8.17751668e-02]\n",
      " [ 7.79902522e-01  3.95643498e-01  3.13872248e-01]\n",
      " [-1.64066754e+00 -8.01754544e-01 -5.58605541e-01]\n",
      " [-1.58843225e+00 -8.11470826e-01 -5.79532327e-01]\n",
      " [ 3.18906740e-01  1.08792314e-01  2.75840898e-01]\n",
      " [-5.02674592e-01 -2.38983305e-01 -2.48746170e-01]\n",
      " [-1.37711066e-01 -1.05752069e-01 -1.77908926e-02]\n",
      " [ 4.81925630e-01  2.92508781e-01  1.63462984e-01]\n",
      " [-2.29891000e-01 -1.50355155e-01 -1.76079372e-01]\n",
      " [ 3.73274828e-01  1.72114349e-01  6.27867318e-02]\n",
      " [ 9.31806851e-02 -2.69733449e-02 -1.17859806e-01]\n",
      " [-1.97141061e-01 -1.34497721e-01 -1.38029617e-01]] \n",
      " (67, 3)\n"
     ]
    }
   ],
   "source": [
    "from CBIG_model_pytorch import covariance_rowwise\n",
    "\n",
    "cov = covariance_rowwise(y_train_pred, y_train_haufe)\n",
    "print(cov, '\\n', cov.shape)"
   ]
  }
 ],
 "metadata": {
  "interpreter": {
   "hash": "9211f842e4957b840c6ab516fe1756049fc8809c71ad1557ffcdfc52960e8d65"
  },
  "kernelspec": {
   "display_name": "Python 3",
   "language": "python",
   "name": "python3"
  },
  "language_info": {
   "codemirror_mode": {
    "name": "ipython",
    "version": 3
   },
   "file_extension": ".py",
   "mimetype": "text/x-python",
   "name": "python",
   "nbconvert_exporter": "python",
   "pygments_lexer": "ipython3",
   "version": "3.6.13"
  }
 },
 "nbformat": 4,
 "nbformat_minor": 2
}
