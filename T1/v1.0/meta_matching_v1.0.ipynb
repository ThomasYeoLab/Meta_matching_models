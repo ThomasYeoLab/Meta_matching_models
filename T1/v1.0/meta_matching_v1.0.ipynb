{
 "cells": [
  {
   "cell_type": "markdown",
   "metadata": {
    "collapsed": true,
    "pycharm": {
     "name": "#%% md\n"
    }
   },
   "source": [
    "## Meta matching v1.0\n",
    "This jupyter notebook demonstrates you how to load and use meta-matching algorithm. In this demonstration, we performed meta-matching with 20 example subjects.\n",
    "\n",
    "Package needed (and version this jupyter notebook tested):\n",
    "* Numpy (1.24.2)\n",
    "* Scipy (1.9.1)\n",
    "* PyTorch (1.7.1)\n",
    "* Scikit-learn (0.22.2)\n"
   ]
  },
  {
   "cell_type": "markdown",
   "metadata": {},
   "source": [
    "### Step 0. Setup\n",
    "Please modify the `path_repo` below to your repo position:\n"
   ]
  },
  {
   "cell_type": "code",
   "execution_count": 1,
   "metadata": {
    "pycharm": {
     "name": "#%%\n"
    }
   },
   "outputs": [],
   "source": [
    "path_repo = './'"
   ]
  },
  {
   "cell_type": "code",
   "execution_count": 3,
   "metadata": {
    "pycharm": {
     "name": "#%%\n"
    }
   },
   "outputs": [],
   "source": [
    "# initialization and random seed set\n",
    "\n",
    "import os\n",
    "import sys\n",
    "import random\n",
    "import scipy\n",
    "import torch\n",
    "import pickle\n",
    "import sklearn\n",
    "import numpy as np\n",
    "\n",
    "seed = 42\n",
    "random.seed(seed)\n",
    "np.random.seed(seed)\n",
    "torch.manual_seed(seed)\n",
    "torch.cuda.manual_seed(seed)\n",
    "torch.cuda.manual_seed_all(seed)\n",
    "\n",
    "import warnings\n",
    "warnings.filterwarnings(\"ignore\")"
   ]
  },
  {
   "cell_type": "markdown",
   "metadata": {},
   "source": [
    "### Step 1. load data\n",
    "Load the example fake data that we provided, it contains\n",
    "* Example input structural MRI T1 `x` with size of (20, 182x218x182)\n",
    "    * 20 is number of subjects\n",
    "    * 182x218x182 is dimension of 3D T1 data\n",
    "* Example output phenotypes `y` with size of (20, 2)\n",
    "    * 2 is number of phenotypes.\n",
    "* Example icv data `icv` with size of (20, 1)\n",
    "    * 1 is dimension of icv data."
   ]
  },
  {
   "cell_type": "code",
   "execution_count": 4,
   "metadata": {
    "pycharm": {
     "name": "#%%\n"
    }
   },
   "outputs": [
    {
     "name": "stdout",
     "output_type": "stream",
     "text": [
      "(20, 182, 218, 182) (20, 2) (20, 1)\n"
     ]
    }
   ],
   "source": [
    "data_path = os.path.join(path_repo, 'data')\n",
    "model_path = os.path.join(path_repo, 'model')\n",
    "\n",
    "from CBIG_util import znorm_icv\n",
    "\n",
    "npz = np.load(os.path.join(data_path, 'meta_matching_v1.0_data.npz'))\n",
    "x_input = npz['x']\n",
    "y_input = npz['y']\n",
    "icv_input = npz['icv']\n",
    "icv_input = znorm_icv(icv_input)\n",
    "print(x_input.shape, y_input.shape, icv_input.shape)"
   ]
  },
  {
   "cell_type": "markdown",
   "metadata": {},
   "source": [
    "### Step 2. Split data\n",
    "Here, we also split 20 subjects to 80/20, where 80 for training, and 20 for test."
   ]
  },
  {
   "cell_type": "code",
   "execution_count": 5,
   "metadata": {
    "pycharm": {
     "name": "#%%\n"
    }
   },
   "outputs": [
    {
     "name": "stdout",
     "output_type": "stream",
     "text": [
      "(16, 182, 218, 182) (4, 182, 218, 182) (16, 1) (4, 1) (16, 2) (4, 2)\n"
     ]
    }
   ],
   "source": [
    "from sklearn.model_selection import train_test_split\n",
    "from CBIG_util import mics_z_norm\n",
    "\n",
    "x_train, x_test, icv_train, icv_test, y_train, y_test = train_test_split(x_input, icv_input, y_input, test_size=0.2, random_state=42)\n",
    "n_subj_train, n_subj_test = x_train.shape[0], x_test.shape[0]\n",
    "y_train, y_test, _, _ = mics_z_norm(y_train, y_test)\n",
    "print(x_train.shape, x_test.shape, icv_train.shape, icv_test.shape, y_train.shape, y_test.shape)"
   ]
  },
  {
   "cell_type": "markdown",
   "metadata": {},
   "source": [
    "### Step 3. Meta-matching models predict\n",
    "Here we apply the model pretrained on large source dataset (UK Biobank) to predict source phenotypes on `x_train` and `x_test`. We will get the predicted 67 source phenotypes on both 16 training subjects and 4 test subjects."
   ]
  },
  {
   "cell_type": "code",
   "execution_count": 6,
   "metadata": {
    "pycharm": {
     "name": "#%%\n"
    }
   },
   "outputs": [
    {
     "name": "stdout",
     "output_type": "stream",
     "text": [
      "./model/CBIG_ukbb_dnn_run_0_epoch_98.pkl_torch\n",
      "./model/CBIG_ukbb_dnn_run_0_epoch_98.pkl_torch\n",
      "(16, 67) \n",
      " [[  5.14068842   4.64960146   0.37592569 ...  -0.79975235  -6.86000061\n",
      "    3.36048269]\n",
      " [  6.32211447   7.25385284  -0.03813863 ...  -2.59329224 -10.23042679\n",
      "    5.342453  ]\n",
      " [  4.97654867   4.57014561   0.10048731 ...  -0.61772722  -6.87038994\n",
      "    3.27581429]\n",
      " ...\n",
      " [  4.19604874   3.60710502   0.81585735 ...  -1.02136409  -5.84539986\n",
      "    4.06673527]\n",
      " [  1.93042707   1.30830824   4.18760109 ...  -2.90544534  -5.70266676\n",
      "    4.83503199]\n",
      " [  5.83531666   5.09975815   1.64362442 ...  -1.31022167  -8.29333401\n",
      "    4.30726099]]\n",
      "(4, 67) \n",
      " [[ 3.92415547e+00  4.40324068e+00  1.45960104e+00 -2.59575319e+00\n",
      "   6.67742634e+00 -1.72643602e+00 -6.15279734e-01  2.66337490e+00\n",
      "   2.22580028e+00 -7.09242439e+00  6.12375212e+00 -1.39724225e-01\n",
      "   3.61671233e+00  1.84387958e+00 -1.31239220e-01  1.17996292e+01\n",
      "   2.56022000e+00 -1.68650627e+01 -1.43079567e+00 -2.31316590e+00\n",
      "   3.66654801e+00 -3.54592228e+00 -3.24350834e+00  6.52525711e+00\n",
      "  -8.55264378e+00 -1.89704347e+00 -8.82471657e+00 -3.07513285e+00\n",
      "   4.23771620e-01 -5.35039616e+00  1.45922995e+00 -7.26856947e-01\n",
      "   4.80768085e-01  4.25098038e+00 -2.15537238e+00 -7.08812761e+00\n",
      "   2.57313156e+00  7.41653824e+00 -9.99457717e-01 -1.37368574e+01\n",
      "   4.29682589e+00  3.63387609e+00  1.29669058e+00  4.95211077e+00\n",
      "  -4.80269623e+00  3.32520270e+00 -6.61522007e+00  3.03170037e+00\n",
      "   2.67464161e+00  8.43692839e-01 -5.44847727e+00 -4.02932119e+00\n",
      "   2.12576962e+00  4.24515188e-01 -5.79087925e+00  7.03116703e+00\n",
      "  -2.87159109e+00  3.52183867e+00  3.88959408e+00  2.43504310e+00\n",
      "   5.96578598e+00  6.99332333e+00  1.11560500e+00  2.33778858e+00\n",
      "  -2.42351389e+00 -8.27291775e+00  5.08160162e+00]\n",
      " [ 2.70890760e+00  2.66068077e+00  2.04487157e+00 -1.86249173e+00\n",
      "   4.65456390e+00 -1.30722356e+00  3.07584256e-01  1.85838532e+00\n",
      "   1.67544472e+00 -5.61634493e+00  4.62963057e+00 -6.07081771e-01\n",
      "   2.66089034e+00  1.77532411e+00  7.52108498e-03  1.13128395e+01\n",
      "   1.20096588e+00 -1.16646824e+01 -1.47643018e+00 -1.80145884e+00\n",
      "   2.29527855e+00 -1.80543089e+00 -3.24292183e+00  7.77160168e+00\n",
      "  -6.99708033e+00 -6.89763725e-01 -6.95854282e+00  1.52941853e-01\n",
      "  -1.34043902e-01 -4.35291958e+00  1.27226877e+00  1.78554170e-02\n",
      "   9.04117882e-01  3.23528457e+00 -1.82862401e+00 -5.07898712e+00\n",
      "   2.10843587e+00  5.38372850e+00 -3.95603210e-01 -1.02603674e+01\n",
      "   3.18073177e+00  1.84308982e+00  8.21299911e-01  3.99494147e+00\n",
      "  -4.00859022e+00  2.79212952e+00 -4.74619246e+00  3.04071856e+00\n",
      "   2.46521211e+00  8.72591317e-01 -4.10452700e+00 -3.87808371e+00\n",
      "   1.83209038e+00  1.73212111e+00 -4.05652666e+00  6.20767736e+00\n",
      "  -1.68894458e+00  3.90632868e+00  2.37788653e+00  1.97270942e+00\n",
      "   4.76145601e+00  5.61259031e+00  4.47405636e-01  1.39491487e+00\n",
      "  -2.58922434e+00 -5.91478109e+00  4.97968912e+00]\n",
      " [ 4.17762995e+00  1.93447840e+00  4.23613691e+00 -4.32535028e+00\n",
      "   6.03242302e+00 -1.30919814e+00  1.77578378e+00  8.89223754e-01\n",
      "  -1.76222825e+00 -1.12477646e+01  1.93964601e+00 -2.28021669e+00\n",
      "   4.74243355e+00 -9.98837173e-01 -1.30346668e+00  1.38647203e+01\n",
      "   1.49876881e+00 -8.60771465e+00 -3.49855095e-01 -4.87250996e+00\n",
      "   5.11919916e-01 -2.78137255e+00 -6.05488825e+00  8.32839584e+00\n",
      "  -8.97953129e+00  2.09337592e+00 -1.26947231e+01 -2.46208951e-01\n",
      "  -2.11437631e+00 -3.51028037e+00 -8.09764087e-01  2.20588279e+00\n",
      "   5.08271742e+00  4.69688368e+00 -1.51877832e+00 -3.23196387e+00\n",
      "   5.91748238e+00  3.40904212e+00 -5.24863601e-02 -1.21886482e+01\n",
      "   4.07937908e+00 -2.18568945e+00  1.76102114e+00  5.90956020e+00\n",
      "  -5.57159185e+00  3.25889635e+00 -7.24224043e+00  3.30918360e+00\n",
      "   2.06713700e+00  2.49910641e+00 -7.41511726e+00 -5.96307659e+00\n",
      "   3.50071526e+00  8.37998772e+00 -3.63641143e+00  6.20846796e+00\n",
      "  -2.58115935e+00  6.86608887e+00  3.61273479e+00  2.80159974e+00\n",
      "   7.27195692e+00  8.91964340e+00  2.87896574e-01  9.81498539e-01\n",
      "  -3.85021067e+00 -7.02693939e+00  7.52993774e+00]\n",
      " [ 3.35998201e+00  3.77078772e+00  2.42685318e+00 -2.29841471e+00\n",
      "   6.39329004e+00 -1.97555351e+00  1.03567101e-01  2.87152767e+00\n",
      "   2.34324026e+00 -6.68730402e+00  6.47377920e+00 -3.35758567e-01\n",
      "   3.61647892e+00  2.56092954e+00 -7.93716609e-02  1.38174944e+01\n",
      "   1.72287250e+00 -1.57839041e+01 -1.49358010e+00 -1.85390317e+00\n",
      "   3.44335866e+00 -3.12156892e+00 -3.75403118e+00  8.82254887e+00\n",
      "  -8.58420849e+00 -1.32270849e+00 -8.54956722e+00 -1.01510370e+00\n",
      "   3.08268160e-01 -5.86074781e+00  1.56427264e+00 -6.58100247e-01\n",
      "   7.62464464e-01  3.82024956e+00 -2.18172908e+00 -6.72875595e+00\n",
      "   2.27775884e+00  7.54847765e+00 -1.09069717e+00 -1.34057951e+01\n",
      "   3.96805429e+00  3.16281295e+00  1.34463966e+00  5.31423283e+00\n",
      "  -4.94929743e+00  3.22652555e+00 -6.29800653e+00  3.18716049e+00\n",
      "   2.97134972e+00  1.20005012e+00 -5.34217978e+00 -4.03137159e+00\n",
      "   1.99381316e+00  9.47128952e-01 -5.83754778e+00  7.81414127e+00\n",
      "  -2.05040598e+00  4.09855747e+00  3.36331797e+00  2.10900903e+00\n",
      "   5.77894592e+00  6.53992176e+00  8.94888461e-01  1.85932612e+00\n",
      "  -2.79113626e+00 -8.31802368e+00  5.38585424e+00]]\n"
     ]
    }
   ],
   "source": [
    "from CBIG_util import metamatching_infer\n",
    "\n",
    "y_train_pred = metamatching_infer(x_train, icv_train, y_train, model_path)\n",
    "y_test_pred = metamatching_infer(x_test, icv_test, y_test, model_path)\n",
    "\n",
    "print(y_train_pred.shape, '\\n', y_train_pred)\n",
    "print(y_test_pred.shape, '\\n', y_test_pred)"
   ]
  },
  {
   "cell_type": "markdown",
   "metadata": {},
   "source": [
    "### Step 4. Stacking\n",
    "Perform stacking with `y_train_pred`, `y_test_pred`, `y_train`, where we use the prediction of 16 subjects `y_train_pred` (input) and real data `y_train` (output) to train the stacking model, then we applied the model to `y_test_pred` to get final prediction of 2 phenotypes on 4 subjects. Here\n",
    "for simplicity of the example code, we use all 67 outputs from pretrained model as the input of stacking KRR model, if you want to select the top K outputs please see our [CBIG repo](https://github.com/ThomasYeoLab/CBIG/tree/master/stable_projects/predict_phenotypes/Naren2024_MMT1) for more details.\n",
    "\n",
    "#### Hyperparameter Tuning\n",
    "In `stacking()` function, we set the range of `alpha` as `[5, 10, 15, 20, 25, 30, 35, 40, 45, 50]`. You are weclomed to modify the range of `alpha` to get better performance on your own data."
   ]
  },
  {
   "cell_type": "code",
   "execution_count": 7,
   "metadata": {
    "pycharm": {
     "name": "#%%\n"
    }
   },
   "outputs": [
    {
     "name": "stdout",
     "output_type": "stream",
     "text": [
      "(4, 2) \n",
      " [[-0.00985054 -0.58495296]\n",
      " [-0.65465397 -0.77294818]\n",
      " [-2.32535036 -2.09903303]\n",
      " [ 0.42019968 -0.04759149]]\n"
     ]
    }
   ],
   "source": [
    "from CBIG_util import stacking\n",
    "\n",
    "y_test_final_arr = np.zeros((y_test_pred.shape[0], y_train.shape[1]))\n",
    "y_train_final_arr = np.zeros((y_train_pred.shape[0], y_train.shape[1]))\n",
    "for i in range(y_train.shape[1]):\n",
    "    # For each test phenotype, perform stacking by developing a KRR model\n",
    "    y_test_final, y_train_final = stacking(y_train_pred, y_test_pred, y_train[:,i])\n",
    "    y_test_final_arr[:,i] = y_test_final\n",
    "    y_train_final_arr[:,i] = y_train_final\n",
    "print(y_test_final_arr.shape, '\\n', y_test_final_arr)"
   ]
  },
  {
   "cell_type": "markdown",
   "metadata": {},
   "source": [
    "### Step 5. Evaluation\n",
    "Evaluate the prediction performance."
   ]
  },
  {
   "cell_type": "code",
   "execution_count": 8,
   "metadata": {
    "pycharm": {
     "name": "#%%\n"
    }
   },
   "outputs": [
    {
     "name": "stdout",
     "output_type": "stream",
     "text": [
      "[0.7865745  0.30652337]\n"
     ]
    }
   ],
   "source": [
    "from scipy.stats.stats import pearsonr\n",
    "\n",
    "corr = np.zeros((y_train.shape[1]))\n",
    "for i in range(y_train.shape[1]):\n",
    "    corr[i] = pearsonr(y_test_final_arr[:, i], y_test[:, i])[0]\n",
    "print(corr)"
   ]
  },
  {
   "cell_type": "markdown",
   "metadata": {},
   "source": [
    "### Step 6. Haufe transform predictive network features (PNFs) computation\n",
    "Here we compute the PNF for stacking we just performed. It computes the covariance between 2 phenotype predicitons and each voxel of 3D T1 data on the 16 training subjects. The final PNF is in shape of (87571, 2), where 87571 is number of voxel after crop, and 2 is number of phenotypes."
   ]
  },
  {
   "cell_type": "code",
   "execution_count": 9,
   "metadata": {
    "pycharm": {
     "name": "#%%\n"
    }
   },
   "outputs": [
    {
     "name": "stdout",
     "output_type": "stream",
     "text": [
      "100000 0.0241239070892334\n",
      "200000 0.03540349006652832\n",
      "300000 0.046111106872558594\n",
      "400000 0.05654621124267578\n",
      "500000 0.06667852401733398\n",
      "600000 0.07681608200073242\n",
      "700000 0.08691263198852539\n",
      "800000 0.0971229076385498\n",
      "900000 0.1072685718536377\n",
      "1000000 0.11733794212341309\n",
      "1100000 0.1274425983428955\n",
      "1200000 0.13744783401489258\n",
      "1300000 0.1472916603088379\n",
      "1400000 0.15751361846923828\n",
      "1500000 0.16780829429626465\n",
      "1600000 0.1781291961669922\n",
      "1700000 0.18836736679077148\n",
      "1800000 0.19851374626159668\n",
      "1900000 0.20846128463745117\n",
      "2000000 0.21852588653564453\n",
      "2100000 0.23040533065795898\n",
      "2200000 0.2409675121307373\n",
      "2300000 0.25147080421447754\n",
      "2400000 0.2616233825683594\n",
      "2500000 0.2717244625091553\n",
      "2600000 0.28162407875061035\n",
      "2700000 0.29131340980529785\n",
      "2800000 0.3010115623474121\n",
      "2900000 0.31070709228515625\n",
      "3000000 0.3202700614929199\n",
      "3100000 0.33019590377807617\n",
      "3200000 0.3398582935333252\n",
      "3300000 0.3497292995452881\n",
      "3400000 0.35959720611572266\n",
      "3500000 0.3695487976074219\n",
      "3600000 0.3796522617340088\n",
      "3700000 0.3897719383239746\n",
      "3800000 0.3995516300201416\n",
      "3900000 0.40947961807250977\n",
      "4000000 0.41965556144714355\n",
      "4100000 0.42991018295288086\n",
      "4200000 0.44019341468811035\n",
      "4300000 0.45044732093811035\n",
      "4400000 0.4606311321258545\n",
      "4500000 0.4708714485168457\n",
      "4600000 0.4809598922729492\n",
      "4700000 0.49085211753845215\n",
      "4800000 0.5005955696105957\n",
      "4900000 0.5106849670410156\n",
      "5000000 0.5208644866943359\n",
      "5100000 0.5309672355651855\n",
      "5200000 0.5407476425170898\n",
      "5300000 0.5502946376800537\n",
      "5400000 0.5597937107086182\n",
      "5500000 0.56982421875\n",
      "5600000 0.5796794891357422\n",
      "5700000 0.5895555019378662\n",
      "5800000 0.5997867584228516\n",
      "5900000 0.6098027229309082\n",
      "6000000 0.619870662689209\n",
      "6100000 0.6298742294311523\n",
      "6200000 0.6398060321807861\n",
      "6300000 0.6497056484222412\n",
      "6400000 0.659599781036377\n",
      "6500000 0.6696071624755859\n",
      "6600000 0.6798524856567383\n",
      "6700000 0.6897075176239014\n",
      "6800000 0.6994938850402832\n",
      "6900000 0.7089028358459473\n",
      "7000000 0.7184596061706543\n",
      "7100000 0.7284140586853027\n",
      "7200000 0.7379715442657471\n",
      "7300000 0.7475605010986328\n",
      "7400000 0.7570292949676514\n",
      "7500000 0.7670915126800537\n",
      "7600000 0.7770042419433594\n",
      "7700000 0.7868540287017822\n",
      "7800000 0.7967567443847656\n",
      "7900000 0.8165876865386963\n",
      "8000000 0.8275814056396484\n",
      "8100000 0.8383092880249023\n",
      "8200000 0.8489894866943359\n",
      "8300000 0.8596038818359375\n",
      "8400000 0.8702459335327148\n",
      "8500000 0.8808488845825195\n",
      "8600000 0.8914504051208496\n",
      "8700000 0.9017407894134521\n",
      "8800000 0.912102222442627\n",
      "8900000 0.9221508502960205\n",
      "9000000 0.932185173034668\n",
      "9100000 0.9421756267547607\n",
      "9200000 0.9521346092224121\n",
      "9300000 0.9621906280517578\n",
      "9400000 0.9723191261291504\n",
      "9500000 0.9822728633880615\n",
      "9600000 0.9922280311584473\n",
      "9700000 1.0022485256195068\n",
      "9800000 1.0121333599090576\n",
      "[[ 0.16097569  0.13159077]\n",
      " [ 0.1131366  -0.04938781]\n",
      " [-0.04064311 -0.07956271]\n",
      " ...\n",
      " [-0.14919038 -0.32292993]\n",
      " [ 0.08058568  0.223982  ]\n",
      " [-0.45662016 -0.32028769]] \n",
      " (4915200, 2)\n"
     ]
    }
   ],
   "source": [
    "from CBIG_util import covariance_rowwise, load_3D_input\n",
    "\n",
    "x_train = load_3D_input(x_train)\n",
    "cov = covariance_rowwise(x_train, y_train_final_arr)\n",
    "print(cov, '\\n', cov.shape)"
   ]
  },
  {
   "cell_type": "code",
   "execution_count": null,
   "metadata": {},
   "outputs": [],
   "source": []
  }
 ],
 "metadata": {
  "kernelspec": {
   "display_name": "Python 3 (ipykernel)",
   "language": "python",
   "name": "python3"
  },
  "language_info": {
   "codemirror_mode": {
    "name": "ipython",
    "version": 3
   },
   "file_extension": ".py",
   "mimetype": "text/x-python",
   "name": "python",
   "nbconvert_exporter": "python",
   "pygments_lexer": "ipython3",
   "version": "3.8.5"
  }
 },
 "nbformat": 4,
 "nbformat_minor": 1
}